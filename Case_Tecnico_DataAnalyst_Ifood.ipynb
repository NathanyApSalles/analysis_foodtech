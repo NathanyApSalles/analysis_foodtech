{
  "nbformat": 4,
  "nbformat_minor": 0,
  "metadata": {
    "colab": {
      "provenance": [],
      "authorship_tag": "ABX9TyPJ676h3B/8H5+WQugCE8OM",
      "include_colab_link": true
    },
    "kernelspec": {
      "name": "python3",
      "display_name": "Python 3"
    },
    "language_info": {
      "name": "python"
    }
  },
  "cells": [
    {
      "cell_type": "markdown",
      "metadata": {
        "id": "view-in-github",
        "colab_type": "text"
      },
      "source": [
        "<a href=\"https://colab.research.google.com/github/NathanyApSalles/analysis_foodtech/blob/main/Case_Tecnico_DataAnalyst_Ifood.ipynb\" target=\"_parent\"><img src=\"https://colab.research.google.com/assets/colab-badge.svg\" alt=\"Open In Colab\"/></a>"
      ]
    },
    {
      "cell_type": "markdown",
      "source": [
        "# Importação das bases"
      ],
      "metadata": {
        "id": "GDeFN_srdPt8"
      }
    },
    {
      "cell_type": "code",
      "source": [
        "import requests\n",
        "import tarfile\n",
        "import os\n",
        "from pyspark.sql import SparkSession, DataFrame\n",
        "\n",
        "spark = SparkSession.builder.getOrCreate()"
      ],
      "metadata": {
        "id": "O_7IWENanm7y"
      },
      "execution_count": 42,
      "outputs": []
    },
    {
      "cell_type": "code",
      "execution_count": 43,
      "metadata": {
        "id": "Qtb9n4XVcm29"
      },
      "outputs": [],
      "source": [
        "def read_file(url: str, local_path: str, type_file: str) -> DataFrame:\n",
        "  \"\"\"Função para ler arquivo e retornar um Dataframe.\"\"\"\n",
        "  if not os.path.exists(local_path):\n",
        "    response = requests.get(url)\n",
        "    with open(local_path, \"wb\") as f:\n",
        "        f.write(response.content)\n",
        "  if type_file == \"json\":\n",
        "    return spark.read.json(local_path, multiLine=False)\n",
        "  elif type_file == \"csv\":\n",
        "    return spark.read.option(\"header\", \"true\").csv(local_path)\n",
        "  elif type_file == \"tar\":\n",
        "\n",
        "    arquivos_extraidos = \"/tmp/ab_test_ref\"\n",
        "\n",
        "    os.makedirs(arquivos_extraidos, exist_ok=True)\n",
        "\n",
        "    with tarfile.open(local_path, \"r:gz\") as tar:\n",
        "        tar.extractall(path=arquivos_extraidos)\n",
        "\n",
        "    filename = \"\"\n",
        "    for root, dirs, files in os.walk(arquivos_extraidos):\n",
        "        for filename in files:\n",
        "            print(filename) # print para visualizar todos os arquivos exraídos\n",
        "    if \".csv\" in filename: # se houver algum arquivo csv, junte todos os arquivos deste tipo no dataframe\n",
        "      return spark.read.option(\"header\", \"true\").csv(arquivos_extraidos + \"/*.csv\")\n",
        "    else: # se houver algum arquivo json, junte todos os arquivos deste tipo no dataframe\n",
        "      return spark.read.json(arquivos_extraidos + \"/*.json\")\n",
        "      #pode acontecer de ter arquivos de diferentes tipos misturados, mas para este estudo vamos assumir que todos são do mesmo tipo\n"
      ]
    },
    {
      "cell_type": "code",
      "source": [
        "\n",
        "\n",
        "url_pedidos = \"https://data-architect-test-source.s3-sa-east-1.amazonaws.com/order.json.gz\"\n",
        "url_usuarios = \"https://data-architect-test-source.s3-sa-east-1.amazonaws.com/consumer.csv.gz\"\n",
        "url_merchants = \"https://data-architect-test-source.s3-sa-east-1.amazonaws.com/restaurant.csv.gz\"\n",
        "url_test_ab = \"https://data-architect-test-source.s3-sa-east-1.amazonaws.com/ab_test_ref.tar.gz\"\n",
        "\n",
        "local_path_pedidos = \"/tmp/order.json.gz\"\n",
        "local_path_usuarios = \"/tmp/consumer.csv.gz\"\n",
        "local_path_merchants = \"/tmp/restaurant.csv.gz\"\n",
        "local_path_teste_ab = \"/tmp/ab_test_ref.tar.gz\"\n",
        "\n",
        "pedidos = read_file(url_pedidos, local_path_pedidos, \"json\")\n",
        "usuarios = read_file(url_usuarios, local_path_usuarios, \"csv\")\n",
        "merchants = read_file(url_merchants, local_path_merchants, \"csv\")\n",
        "teste_ab = read_file(url_test_ab, local_path_teste_ab, \"tar\")"
      ],
      "metadata": {
        "colab": {
          "base_uri": "https://localhost:8080/"
        },
        "id": "S2EDf_Z_ei-3",
        "outputId": "3f4d67a2-55ec-42d4-e06e-3b52a66e9359"
      },
      "execution_count": 44,
      "outputs": [
        {
          "output_type": "stream",
          "name": "stdout",
          "text": [
            "._ab_test_ref.csv\n",
            "ab_test_ref.csv\n"
          ]
        }
      ]
    },
    {
      "cell_type": "code",
      "source": [
        "pedidos.show(5)"
      ],
      "metadata": {
        "colab": {
          "base_uri": "https://localhost:8080/"
        },
        "id": "JLFqLEEMpaYK",
        "outputId": "14742b67-9156-4218-ebbf-50bef83734dd"
      },
      "execution_count": 45,
      "outputs": [
        {
          "output_type": "stream",
          "name": "stdout",
          "text": [
            "+-----------+--------------------+-------------+---------------------+------------------------+-------------------------+----------------------------+-------------------------+--------------------------+----------------------+-------------------------+--------------------+--------------------+-----------------+------------------+-----------------+--------------------+--------------------+---------------+--------------------+------------------+---------------+\n",
            "|        cpf|         customer_id|customer_name|delivery_address_city|delivery_address_country|delivery_address_district|delivery_address_external_id|delivery_address_latitude|delivery_address_longitude|delivery_address_state|delivery_address_zip_code|               items|         merchant_id|merchant_latitude|merchant_longitude|merchant_timezone|    order_created_at|            order_id|order_scheduled|order_scheduled_date|order_total_amount|origin_platform|\n",
            "+-----------+--------------------+-------------+---------------------+------------------------+-------------------------+----------------------------+-------------------------+--------------------------+----------------------+-------------------------+--------------------+--------------------+-----------------+------------------+-----------------+--------------------+--------------------+---------------+--------------------+------------------+---------------+\n",
            "|80532101763|7ba88a68bb2a3504c...|      GUSTAVO|               FRANCA|                      BR|         JARDIM ESPRAIADO|                     6736655|                   -47.39|                    -20.55|                    SP|                    14403|[{\"name\": \"Parmeg...|a992a079a651e699d...|           -47.39|            -20.55|America/Sao_Paulo|2019-01-17T22:50:...|33e0612d62e5eb42a...|          false|                NULL|              46.0|        ANDROID|\n",
            "|43352103961|078acecdcf7fa89d3...|     MICHELLE|               SANTOS|                      BR|             CAMPO GRANDE|                     8759216|                   -46.34|                    -23.96|                    SP|                    11070|[{\"name\": \"Filé M...|5152f28ee0518b880...|           -46.34|            -23.96|America/Sao_Paulo|2019-01-17T17:51:...|148c4353a2952f3fe...|          false|                NULL|             104.5|        ANDROID|\n",
            "|38650991217|0e38a3237b5946e8a...|       VICTOR|            GUARULHOS|                      BR|             JARDIM ROSSI|                     8765930|                   -46.53|                    -23.44|                    SP|                    71304|[{\"name\": \"GRANDE...|b6096419455c35d06...|           -46.53|            -23.44|America/Sao_Paulo|2019-01-17T22:53:...|c37e495a91b498bb7...|          false|                NULL|              35.0|            IOS|\n",
            "|63579726866|cab1a004b7206d079...|        ANNIE|            SAO PAULO|                      BR|         PARQUE SAO JORGE|                     7834087|                   -46.57|                    -23.53|                    SP|                    30870|[{\"name\": \"CALABR...|082bfdcdf6ccdc343...|           -46.57|            -23.53|America/Sao_Paulo|2019-01-17T23:56:...|b4df94142d2135461...|          false|                NULL|              40.8|            IOS|\n",
            "|90617788806|aa7edf5b166b8c843...|       DANIEL|              VITORIA|                      BR|           JARDIM CAMBURI|                     7211683|                   -40.27|                    -20.25|                    ES|                    29090|[{\"name\": \"GRANDE...|d7adb764bac29ccb7...|           -40.27|            -20.25|America/Sao_Paulo|2019-01-17T23:40:...|4ff64b33b272c1886...|          false|                NULL|              48.5|        ANDROID|\n",
            "+-----------+--------------------+-------------+---------------------+------------------------+-------------------------+----------------------------+-------------------------+--------------------------+----------------------+-------------------------+--------------------+--------------------+-----------------+------------------+-----------------+--------------------+--------------------+---------------+--------------------+------------------+---------------+\n",
            "only showing top 5 rows\n",
            "\n"
          ]
        }
      ]
    },
    {
      "cell_type": "code",
      "source": [
        "usuarios.show(5)"
      ],
      "metadata": {
        "colab": {
          "base_uri": "https://localhost:8080/"
        },
        "id": "JOo2pSgwvxIN",
        "outputId": "812c00f2-1e2f-4694-ce10-9b864f1f252d"
      },
      "execution_count": 46,
      "outputs": [
        {
          "output_type": "stream",
          "name": "stdout",
          "text": [
            "+--------------------+--------+--------------------+------+-------------+-------------------+---------------------+\n",
            "|         customer_id|language|          created_at|active|customer_name|customer_phone_area|customer_phone_number|\n",
            "+--------------------+--------+--------------------+------+-------------+-------------------+---------------------+\n",
            "|e8cc60860e09c0bb1...|   pt-br|2018-04-05T14:49:...|  true|         NUNO|                 46|            816135924|\n",
            "|a2834a38a9876cf74...|   pt-br|2018-01-14T21:40:...|  true|     ADRIELLY|                 59|            231330577|\n",
            "|41e1051728eba1334...|   pt-br|2018-01-07T03:47:...|  true|        PAULA|                 62|            347597883|\n",
            "|8e7c1dcb64edf95c9...|   pt-br|2018-01-10T22:17:...|  true|       HELTON|                 13|            719366842|\n",
            "|7823d4cf4150c5dae...|   pt-br|2018-04-06T00:16:...|  true|       WENDER|                 76|            543232158|\n",
            "+--------------------+--------+--------------------+------+-------------+-------------------+---------------------+\n",
            "only showing top 5 rows\n",
            "\n"
          ]
        }
      ]
    },
    {
      "cell_type": "code",
      "source": [
        "merchants.show(5)"
      ],
      "metadata": {
        "colab": {
          "base_uri": "https://localhost:8080/"
        },
        "id": "dIDvPFqlxGYE",
        "outputId": "e8fb8786-e2dc-41a9-965a-f56b0ebe1e71"
      },
      "execution_count": 47,
      "outputs": [
        {
          "output_type": "stream",
          "name": "stdout",
          "text": [
            "+--------------------+--------------------+-------+-----------+--------------+------------+-------------+-------------------+-----------------+--------------+--------------+----------------+\n",
            "|                  id|          created_at|enabled|price_range|average_ticket|takeout_time|delivery_time|minimum_order_value|merchant_zip_code| merchant_city|merchant_state|merchant_country|\n",
            "+--------------------+--------------------+-------+-----------+--------------+------------+-------------+-------------------+-----------------+--------------+--------------+----------------+\n",
            "|d19ff6fca6288939b...|2017-01-23T12:52:...|  false|          3|          60.0|           0|           50|               30.0|            14025|RIBEIRAO PRETO|            SP|              BR|\n",
            "|631df0985fdbbaf27...|2017-01-20T13:14:...|   true|          3|          60.0|           0|            0|               30.0|            50180|     SAO PAULO|            SP|              BR|\n",
            "|135c5c4ae4c1ec1fd...|2017-01-23T12:46:...|   true|          5|         100.0|           0|           45|               10.0|            23090|RIO DE JANEIRO|            RJ|              BR|\n",
            "|d26f84c470451f752...|2017-01-20T13:15:...|   true|          3|          80.0|           0|            0|               18.9|            40255|      SALVADOR|            BA|              BR|\n",
            "|97b9884600ea71923...|2017-01-20T13:14:...|   true|          3|          60.0|           0|            0|               25.0|            64600|       BARUERI|            SP|              BR|\n",
            "+--------------------+--------------------+-------+-----------+--------------+------------+-------------+-------------------+-----------------+--------------+--------------+----------------+\n",
            "only showing top 5 rows\n",
            "\n"
          ]
        }
      ]
    },
    {
      "cell_type": "code",
      "source": [
        "teste_ab.show(5, truncate=False)"
      ],
      "metadata": {
        "colab": {
          "base_uri": "https://localhost:8080/"
        },
        "id": "71nIXdCnxILq",
        "outputId": "d0d1797a-996d-4f24-940a-61ebed50e98a"
      },
      "execution_count": 49,
      "outputs": [
        {
          "output_type": "stream",
          "name": "stdout",
          "text": [
            "+----------------------------------------------------------------+---------+\n",
            "|customer_id                                                     |is_target|\n",
            "+----------------------------------------------------------------+---------+\n",
            "|755e1fa18f25caec5edffb188b13fd844b2af8cf5adedcf77c028f36cb9382ea|target   |\n",
            "|b821aa8372b8e5b82cdc283742757df8c45eecdd72adf411716e710525d4edf1|control  |\n",
            "|d425d6ee4c9d4e211b71da8fc60bf6c5336b2ea9af9cc007f5297541ec40b63b|control  |\n",
            "|6a7089eea0a5dc294fbccd4fa24d0d84a90c1cc12e829c8b535718bbc651ab02|target   |\n",
            "|dad6b7e222bab31c0332b0ccd9fa5dbd147008facd268f5e3763fa657c23a58d|control  |\n",
            "+----------------------------------------------------------------+---------+\n",
            "only showing top 5 rows\n",
            "\n"
          ]
        }
      ]
    },
    {
      "cell_type": "code",
      "source": [
        "from pyspark.sql.functions import col, broadcast"
      ],
      "metadata": {
        "id": "-xIetxyoz8_E"
      },
      "execution_count": 65,
      "outputs": []
    },
    {
      "cell_type": "markdown",
      "source": [
        "- tarquet x control\n",
        "\n",
        "    - qtd de pedidos\n",
        "    - valor total da compra\n",
        "    - ticket médio\n",
        "    - tempo entre compras\n",
        "    - recorrencia\n",
        "    - tem diferença entre usuários ativos ou não?\n",
        "    - expansão geográfica: qtd de estabelecimentos diferentes que compraram\n",
        "    - restaurantes que mais venderam\n",
        "    - região que mais vendeu\n",
        "    - horário das compras\n",
        "    - qtd de produtos adquiridos"
      ],
      "metadata": {
        "id": "rSbOvNnJ1O52"
      }
    },
    {
      "cell_type": "code",
      "source": [
        "pedidos.join(broadcast(teste_ab), ['customer_id'], \"left\").show(5)"
      ],
      "metadata": {
        "colab": {
          "base_uri": "https://localhost:8080/"
        },
        "id": "1hN41DQP5CZf",
        "outputId": "ba6927d0-7c0c-4028-f735-25378d6b8bda"
      },
      "execution_count": 67,
      "outputs": [
        {
          "output_type": "stream",
          "name": "stdout",
          "text": [
            "+--------------------+-----------+-------------+---------------------+------------------------+-------------------------+----------------------------+-------------------------+--------------------------+----------------------+-------------------------+--------------------+--------------------+-----------------+------------------+-----------------+--------------------+--------------------+---------------+--------------------+------------------+---------------+---------+\n",
            "|         customer_id|        cpf|customer_name|delivery_address_city|delivery_address_country|delivery_address_district|delivery_address_external_id|delivery_address_latitude|delivery_address_longitude|delivery_address_state|delivery_address_zip_code|               items|         merchant_id|merchant_latitude|merchant_longitude|merchant_timezone|    order_created_at|            order_id|order_scheduled|order_scheduled_date|order_total_amount|origin_platform|is_target|\n",
            "+--------------------+-----------+-------------+---------------------+------------------------+-------------------------+----------------------------+-------------------------+--------------------------+----------------------+-------------------------+--------------------+--------------------+-----------------+------------------+-----------------+--------------------+--------------------+---------------+--------------------+------------------+---------------+---------+\n",
            "|7ba88a68bb2a3504c...|80532101763|      GUSTAVO|               FRANCA|                      BR|         JARDIM ESPRAIADO|                     6736655|                   -47.39|                    -20.55|                    SP|                    14403|[{\"name\": \"Parmeg...|a992a079a651e699d...|           -47.39|            -20.55|America/Sao_Paulo|2019-01-17T22:50:...|33e0612d62e5eb42a...|          false|                NULL|              46.0|        ANDROID|  control|\n",
            "|078acecdcf7fa89d3...|43352103961|     MICHELLE|               SANTOS|                      BR|             CAMPO GRANDE|                     8759216|                   -46.34|                    -23.96|                    SP|                    11070|[{\"name\": \"Filé M...|5152f28ee0518b880...|           -46.34|            -23.96|America/Sao_Paulo|2019-01-17T17:51:...|148c4353a2952f3fe...|          false|                NULL|             104.5|        ANDROID|  control|\n",
            "|0e38a3237b5946e8a...|38650991217|       VICTOR|            GUARULHOS|                      BR|             JARDIM ROSSI|                     8765930|                   -46.53|                    -23.44|                    SP|                    71304|[{\"name\": \"GRANDE...|b6096419455c35d06...|           -46.53|            -23.44|America/Sao_Paulo|2019-01-17T22:53:...|c37e495a91b498bb7...|          false|                NULL|              35.0|            IOS|  control|\n",
            "|cab1a004b7206d079...|63579726866|        ANNIE|            SAO PAULO|                      BR|         PARQUE SAO JORGE|                     7834087|                   -46.57|                    -23.53|                    SP|                    30870|[{\"name\": \"CALABR...|082bfdcdf6ccdc343...|           -46.57|            -23.53|America/Sao_Paulo|2019-01-17T23:56:...|b4df94142d2135461...|          false|                NULL|              40.8|            IOS|  control|\n",
            "|aa7edf5b166b8c843...|90617788806|       DANIEL|              VITORIA|                      BR|           JARDIM CAMBURI|                     7211683|                   -40.27|                    -20.25|                    ES|                    29090|[{\"name\": \"GRANDE...|d7adb764bac29ccb7...|           -40.27|            -20.25|America/Sao_Paulo|2019-01-17T23:40:...|4ff64b33b272c1886...|          false|                NULL|              48.5|        ANDROID|   target|\n",
            "+--------------------+-----------+-------------+---------------------+------------------------+-------------------------+----------------------------+-------------------------+--------------------------+----------------------+-------------------------+--------------------+--------------------+-----------------+------------------+-----------------+--------------------+--------------------+---------------+--------------------+------------------+---------------+---------+\n",
            "only showing top 5 rows\n",
            "\n"
          ]
        }
      ]
    },
    {
      "cell_type": "code",
      "source": [
        "pedidos.where(col(\"customer_id\") == \"d2c9808453a83b65977dc9f10adda60e3edd3fff5959b15efe9d865baecefdec\").show(truncate=False)"
      ],
      "metadata": {
        "colab": {
          "base_uri": "https://localhost:8080/"
        },
        "id": "vCS0cQSSzqdD",
        "outputId": "7449a013-ed0d-4a4a-93c9-63f4b9e78001"
      },
      "execution_count": 61,
      "outputs": [
        {
          "output_type": "stream",
          "name": "stdout",
          "text": [
            "+-----------+----------------------------------------------------------------+-------------+---------------------+------------------------+-------------------------+----------------------------+-------------------------+--------------------------+----------------------+-------------------------+---------------------------------------------------------------------------------------------------------------------------------------------------------------------------------------------------------------------------------------------------------------------------------------------------------------------------------------------------------------------------------------------------------------------------------------------------------------------------------------------------------------------------------------------------------------------------------------------------------------------------------------------------------------------------------------------------------------------------------------------------------------------------------------------------------------------------------------------------------------------------------------------------------------------------------------------------------------------------------------------------------------------------------------------------------------------------------------------------------------------------------------------------------------------------------------------------------------------------------------------------------------------------------------------------------------------------------------------------------------------------------------------------------------------------------------------------------------------------------------------------------------------------------------------------------------------------------------------------------------------------------------------------------------------------------------------------------------------------------------------------------------------------+----------------------------------------------------------------+-----------------+------------------+-----------------+------------------------+----------------------------------------------------------------+---------------+--------------------+------------------+---------------+\n",
            "|cpf        |customer_id                                                     |customer_name|delivery_address_city|delivery_address_country|delivery_address_district|delivery_address_external_id|delivery_address_latitude|delivery_address_longitude|delivery_address_state|delivery_address_zip_code|items                                                                                                                                                                                                                                                                                                                                                                                                                                                                                                                                                                                                                                                                                                                                                                                                                                                                                                                                                                                                                                                                                                                                                                                                                                                                                                                                                                                                                                                                                                                                                                                                                                                                                                                                                                      |merchant_id                                                     |merchant_latitude|merchant_longitude|merchant_timezone|order_created_at        |order_id                                                        |order_scheduled|order_scheduled_date|order_total_amount|origin_platform|\n",
            "+-----------+----------------------------------------------------------------+-------------+---------------------+------------------------+-------------------------+----------------------------+-------------------------+--------------------------+----------------------+-------------------------+---------------------------------------------------------------------------------------------------------------------------------------------------------------------------------------------------------------------------------------------------------------------------------------------------------------------------------------------------------------------------------------------------------------------------------------------------------------------------------------------------------------------------------------------------------------------------------------------------------------------------------------------------------------------------------------------------------------------------------------------------------------------------------------------------------------------------------------------------------------------------------------------------------------------------------------------------------------------------------------------------------------------------------------------------------------------------------------------------------------------------------------------------------------------------------------------------------------------------------------------------------------------------------------------------------------------------------------------------------------------------------------------------------------------------------------------------------------------------------------------------------------------------------------------------------------------------------------------------------------------------------------------------------------------------------------------------------------------------------------------------------------------------+----------------------------------------------------------------+-----------------+------------------+-----------------+------------------------+----------------------------------------------------------------+---------------+--------------------+------------------+---------------+\n",
            "|11527174337|d2c9808453a83b65977dc9f10adda60e3edd3fff5959b15efe9d865baecefdec|AMANDA       |SANTOS               |BR                      |BOQUEIRAO                |8781367                     |-46.33                   |-23.96                    |SP                    |11055                    |[{\"name\": \"Filé de Frango à Parmegiana\", \"addition\": {\"value\": \"0\", \"currency\": \"BRL\"}, \"discount\": {\"value\": \"0\", \"currency\": \"BRL\"}, \"quantity\": 1.00, \"sequence\": 1, \"unitPrice\": {\"value\": \"0\", \"currency\": \"BRL\"}, \"externalId\": \"9eddf534619144f0a93773cc78a503e8\", \"totalValue\": {\"value\": \"0\", \"currency\": \"BRL\"}, \"customerNote\": null, \"garnishItems\": [{\"name\": \"Marmitex (para 1 pessoa )\", \"addition\": {\"value\": \"0\", \"currency\": \"BRL\"}, \"discount\": {\"value\": \"0\", \"currency\": \"BRL\"}, \"quantity\": 1.00, \"sequence\": 2, \"unitPrice\": {\"value\": \"1300\", \"currency\": \"BRL\"}, \"categoryId\": \"1FBP5\", \"externalId\": \"a5e0421975344a35a66102dbb6d02a3b\", \"totalValue\": {\"value\": \"1300\", \"currency\": \"BRL\"}, \"categoryName\": \"Escolha seu marmitex\", \"integrationId\": null}, {\"name\": \"Acompanha arroz, feijão, salada e batata frita\", \"addition\": {\"value\": \"0\", \"currency\": \"BRL\"}, \"discount\": {\"value\": \"0\", \"currency\": \"BRL\"}, \"quantity\": 1.00, \"sequence\": 3, \"unitPrice\": {\"value\": \"0\", \"currency\": \"BRL\"}, \"categoryId\": \"1FBP6\", \"externalId\": \"7c8521852b9342458fef9524820b7d3d\", \"totalValue\": {\"value\": \"0\", \"currency\": \"BRL\"}, \"categoryName\": \"Escolha um acompanhamento\", \"integrationId\": null}, {\"name\": \"Molho para Salada\", \"addition\": {\"value\": \"0\", \"currency\": \"BRL\"}, \"discount\": {\"value\": \"0\", \"currency\": \"BRL\"}, \"quantity\": 1.00, \"sequence\": 4, \"unitPrice\": {\"value\": \"0\", \"currency\": \"BRL\"}, \"categoryId\": \"1FBP8\", \"externalId\": \"ac2a46105e664c0ea80f59343c95396c\", \"totalValue\": {\"value\": \"0\", \"currency\": \"BRL\"}, \"categoryName\": \"Tenha uma Ótima Refeição\", \"integrationId\": null}], \"integrationId\": null, \"totalAddition\": {\"value\": \"0\", \"currency\": \"BRL\"}, \"totalDiscount\": {\"value\": \"0\", \"currency\": \"BRL\"}}]|649fa9e4c1de05c9ba83e87d680743458f2a62cd3e18b9a267a1e666686914e1|-46.33           |-23.96            |America/Sao_Paulo|2019-01-29T13:35:27.000Z|3e952e294e3d1316945e6ec43bbb520017c31538f3133bf700f2808d92416842|false          |NULL                |13.0              |ANDROID        |\n",
            "|36602914350|d2c9808453a83b65977dc9f10adda60e3edd3fff5959b15efe9d865baecefdec|AMANDA       |SANTOS               |BR                      |BOQUEIRAO                |8781367                     |-46.33                   |-23.96                    |SP                    |11055                    |[{\"name\": \"Temaki Salmão Doritos\", \"addition\": {\"value\": \"0\", \"currency\": \"BRL\"}, \"discount\": {\"value\": \"0\", \"currency\": \"BRL\"}, \"quantity\": 1.00, \"sequence\": 1, \"unitPrice\": {\"value\": \"1190\", \"currency\": \"BRL\"}, \"externalId\": \"5b342ca00dc547908d3fa8beba192c3b\", \"totalValue\": {\"value\": \"1190\", \"currency\": \"BRL\"}, \"customerNote\": null, \"garnishItems\": [], \"integrationId\": null, \"totalAddition\": {\"value\": \"0\", \"currency\": \"BRL\"}, \"totalDiscount\": {\"value\": \"0\", \"currency\": \"BRL\"}}, {\"name\": \"Temaki Salmão Completo\", \"addition\": {\"value\": \"0\", \"currency\": \"BRL\"}, \"discount\": {\"value\": \"0\", \"currency\": \"BRL\"}, \"quantity\": 1.00, \"sequence\": 2, \"unitPrice\": {\"value\": \"1190\", \"currency\": \"BRL\"}, \"externalId\": \"e9cd4d24a02f4194a1d4f1d692b4276d\", \"totalValue\": {\"value\": \"1190\", \"currency\": \"BRL\"}, \"customerNote\": null, \"garnishItems\": [], \"integrationId\": null, \"totalAddition\": {\"value\": \"0\", \"currency\": \"BRL\"}, \"totalDiscount\": {\"value\": \"0\", \"currency\": \"BRL\"}}]                                                                                                                                                                                                                                                                                                                                                                                                                                                                                                                                                                                                                                                                                                                                                                  |91955dd1b84ae9fc5d8df383524b74fc809ea568b61f0947986717cc4abe13a0|-46.33           |-23.96            |America/Sao_Paulo|2019-01-06T14:01:38.000Z|2af2431f127fd006ea314d44d4e2c6c2a0582c4aae8a386ed5f8266eb3175450|false          |NULL                |23.8              |ANDROID        |\n",
            "|78811700716|d2c9808453a83b65977dc9f10adda60e3edd3fff5959b15efe9d865baecefdec|AMANDA       |SANTOS               |BR                      |BOQUEIRAO                |8781367                     |-46.33                   |-23.96                    |SP                    |11055                    |[{\"name\": \"Temaki Salmão Doritos\", \"addition\": {\"value\": \"0\", \"currency\": \"BRL\"}, \"discount\": {\"value\": \"0\", \"currency\": \"BRL\"}, \"quantity\": 1.00, \"sequence\": 1, \"unitPrice\": {\"value\": \"1190\", \"currency\": \"BRL\"}, \"externalId\": \"5b342ca00dc547908d3fa8beba192c3b\", \"totalValue\": {\"value\": \"1190\", \"currency\": \"BRL\"}, \"customerNote\": null, \"garnishItems\": [], \"integrationId\": null, \"totalAddition\": {\"value\": \"0\", \"currency\": \"BRL\"}, \"totalDiscount\": {\"value\": \"0\", \"currency\": \"BRL\"}}, {\"name\": \"Temaki Salmão Completo\", \"addition\": {\"value\": \"0\", \"currency\": \"BRL\"}, \"discount\": {\"value\": \"0\", \"currency\": \"BRL\"}, \"quantity\": 1.00, \"sequence\": 2, \"unitPrice\": {\"value\": \"1190\", \"currency\": \"BRL\"}, \"externalId\": \"e9cd4d24a02f4194a1d4f1d692b4276d\", \"totalValue\": {\"value\": \"1190\", \"currency\": \"BRL\"}, \"customerNote\": null, \"garnishItems\": [], \"integrationId\": null, \"totalAddition\": {\"value\": \"0\", \"currency\": \"BRL\"}, \"totalDiscount\": {\"value\": \"0\", \"currency\": \"BRL\"}}]                                                                                                                                                                                                                                                                                                                                                                                                                                                                                                                                                                                                                                                                                                                                                                  |91955dd1b84ae9fc5d8df383524b74fc809ea568b61f0947986717cc4abe13a0|-46.33           |-23.96            |America/Sao_Paulo|2018-12-07T14:01:38.000Z|2af2431f127fd006ea314d44d4e2c6c2a0582c4aae8a386ed5f8266eb3175450|false          |NULL                |23.8              |ANDROID        |\n",
            "+-----------+----------------------------------------------------------------+-------------+---------------------+------------------------+-------------------------+----------------------------+-------------------------+--------------------------+----------------------+-------------------------+---------------------------------------------------------------------------------------------------------------------------------------------------------------------------------------------------------------------------------------------------------------------------------------------------------------------------------------------------------------------------------------------------------------------------------------------------------------------------------------------------------------------------------------------------------------------------------------------------------------------------------------------------------------------------------------------------------------------------------------------------------------------------------------------------------------------------------------------------------------------------------------------------------------------------------------------------------------------------------------------------------------------------------------------------------------------------------------------------------------------------------------------------------------------------------------------------------------------------------------------------------------------------------------------------------------------------------------------------------------------------------------------------------------------------------------------------------------------------------------------------------------------------------------------------------------------------------------------------------------------------------------------------------------------------------------------------------------------------------------------------------------------------+----------------------------------------------------------------+-----------------+------------------+-----------------+------------------------+----------------------------------------------------------------+---------------+--------------------+------------------+---------------+\n",
            "\n"
          ]
        }
      ]
    },
    {
      "cell_type": "code",
      "source": [
        "usuarios.where(col(\"active\") == False).show(truncate=False)"
      ],
      "metadata": {
        "colab": {
          "base_uri": "https://localhost:8080/"
        },
        "id": "gF86gMaO3e3r",
        "outputId": "44e554be-4de4-4996-d183-f9d892a35e80"
      },
      "execution_count": 60,
      "outputs": [
        {
          "output_type": "stream",
          "name": "stdout",
          "text": [
            "+----------------------------------------------------------------+--------+------------------------+------+-------------+-------------------+---------------------+\n",
            "|customer_id                                                     |language|created_at              |active|customer_name|customer_phone_area|customer_phone_number|\n",
            "+----------------------------------------------------------------+--------+------------------------+------+-------------+-------------------+---------------------+\n",
            "|b8f1246356fff01018eeedb6913cb1e69896080ddd5d1159bccb41c0aa9b8505|pt-br   |2018-01-23T22:44:55.959Z|false |JOSE         |72                 |987035265            |\n",
            "|88487ebc0a1210e260f3d7fcc1a79708b1314a2637b8151abbef35d814198aa7|pt-br   |2018-01-28T13:43:44.356Z|false |MICHELLE     |26                 |735780766            |\n",
            "|d2c9808453a83b65977dc9f10adda60e3edd3fff5959b15efe9d865baecefdec|pt-br   |2018-01-18T16:43:34.430Z|false |AMANDA       |17                 |690567719            |\n",
            "|d86ef6cb92933f64b324441afaa6bd3c4af6831e2dbe44d9d1d568de823d18a5|pt-br   |2018-01-04T20:44:26.257Z|false |DIOGO        |61                 |294983979            |\n",
            "|8060fe4510ccdea0026cead98e43508bf04d3367ec7385d3b21f81573ce6823e|pt-br   |2018-01-08T21:14:41.511Z|false |LIVIA        |75                 |050488632            |\n",
            "|f11655f9f6424146cb6b4be8d8cdba8ee8863e6eb58b7f30a70438ac674eb2d0|pt-br   |2018-01-27T22:28:37.066Z|false |Luís         |80                 |297682158            |\n",
            "|efcbbc2d071a2c521614a8085bbb9647c4543b70531ba72d6f11d6336ebfc055|pt-br   |2018-04-05T20:06:58.718Z|false |Thaisa       |70                 |152755620            |\n",
            "|fd3ac55aba93be95e41bb128d309d682ce970cae8b6373fc85a94be3285249b7|pt-br   |2018-01-12T14:42:47.438Z|false |TASSIA       |12                 |117629889            |\n",
            "|92ff9b1ae68193d2615ef82031fc1ffc161f00a5055c8860533ca1ba69298129|pt-br   |2018-01-05T18:29:21.847Z|false |MONIQUE      |56                 |666715929            |\n",
            "|6e42dd74fad0a816a086c1a791c62afd137c4a07c26e18deeebb19edca5277ad|pt-br   |2018-01-04T21:52:40.463Z|false |LUCIANA      |22                 |325740757            |\n",
            "|d20b69ce75a5bff96f03fab499c73d39a84b7795fedae1ea1d3c30113024bdea|pt-br   |2018-01-14T01:56:11.417Z|false |Jéssica      |36                 |945643480            |\n",
            "|3a553a78a6b798d122b8e6114dc966583da4cf090f0cbb70ba62ec4cb81b971c|pt-br   |2018-01-05T22:17:42.592Z|false |ANDRE        |58                 |821362777            |\n",
            "|f90c303859cf1b7bc2d1521d5566cbe11e089b3309c81564dbd2ca0488e9d5cf|pt-br   |2018-01-13T17:49:03.124Z|false |GIULIA       |94                 |118926644            |\n",
            "|c6dcd2a9b094941589b3fdfe981eb214ca414c02e0e80e94fe983989037947d7|pt-br   |2018-01-04T12:46:38.267Z|false |CIBELE       |24                 |978635907            |\n",
            "|5c3390b0e38f3d1657728f990861d89aebd3883d68c37b72f78177724808596f|pt-br   |2018-01-02T18:23:30.100Z|false |Renata       |63                 |624534748            |\n",
            "|f2b08e8cc3ad010d54cbddb03d64996fc1c130324ff0114948c423254df49797|pt-br   |2018-01-08T00:45:33.563Z|false |WILLIAM      |33                 |191844732            |\n",
            "|159db4d42574596b7d9ae6702abe85385ef19d5f6b2cb60579a58d7e84901894|pt-br   |2018-01-02T21:47:42.255Z|false |PATRÍCIA     |68                 |074768344            |\n",
            "|933b9e90eec149048217106c6e2a34324fa03e35f3f4737d9f4e17f531b11d88|pt-br   |2018-02-24T01:08:22.413Z|false |THAIS        |26                 |085840806            |\n",
            "|d25a9c6bd59c0ae2988f6e0d6edd4216aedfae7aaea051fbc584dd484fd8451c|pt-br   |2018-02-26T22:27:03.295Z|false |MATHEUS      |98                 |407701756            |\n",
            "|8719b04ada7f71c111b37f44e542d1271ae2f61e1e33b98a8eedc117afa1f773|pt-br   |2018-01-06T18:18:50.871Z|false |FABIANO      |13                 |322276175            |\n",
            "+----------------------------------------------------------------+--------+------------------------+------+-------------+-------------------+---------------------+\n",
            "only showing top 20 rows\n",
            "\n"
          ]
        }
      ]
    }
  ]
}