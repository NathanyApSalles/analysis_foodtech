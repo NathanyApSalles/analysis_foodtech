{
  "nbformat": 4,
  "nbformat_minor": 0,
  "metadata": {
    "colab": {
      "provenance": [],
      "authorship_tag": "ABX9TyPCId+zVZyMAUDGv2vPbCa+",
      "include_colab_link": true
    },
    "kernelspec": {
      "name": "python3",
      "display_name": "Python 3"
    },
    "language_info": {
      "name": "python"
    }
  },
  "cells": [
    {
      "cell_type": "markdown",
      "metadata": {
        "id": "view-in-github",
        "colab_type": "text"
      },
      "source": [
        "<a href=\"https://colab.research.google.com/github/NathanyApSalles/analysis_foodtech/blob/main/Case_Tecnico_DataAnalyst_Ifood.ipynb\" target=\"_parent\"><img src=\"https://colab.research.google.com/assets/colab-badge.svg\" alt=\"Open In Colab\"/></a>"
      ]
    },
    {
      "cell_type": "markdown",
      "source": [
        "# Importação das bases"
      ],
      "metadata": {
        "id": "GDeFN_srdPt8"
      }
    },
    {
      "cell_type": "code",
      "source": [
        "import requests\n",
        "import tarfile\n",
        "import os\n",
        "from pyspark.sql import SparkSession, DataFrame\n",
        "\n",
        "spark = SparkSession.builder.getOrCreate()"
      ],
      "metadata": {
        "id": "O_7IWENanm7y"
      },
      "execution_count": 1,
      "outputs": []
    },
    {
      "cell_type": "code",
      "source": [
        "import matplotlib.pyplot as plt\n",
        "import pandas as pd\n",
        "from scipy.stats import shapiro, anderson, boxcox, mannwhitneyu\n",
        "import numpy as np\n",
        "import seaborn as sns\n",
        "from sklearn.preprocessing import MinMaxScaler"
      ],
      "metadata": {
        "id": "rqbpqjdTzaKB"
      },
      "execution_count": 2,
      "outputs": []
    },
    {
      "cell_type": "code",
      "source": [
        "from   sklearn.cluster import KMeans\n",
        "from   sklearn.metrics import silhouette_score, silhouette_samples"
      ],
      "metadata": {
        "id": "hImyiDqAFTpX"
      },
      "execution_count": 56,
      "outputs": []
    },
    {
      "cell_type": "code",
      "execution_count": 3,
      "metadata": {
        "id": "Qtb9n4XVcm29"
      },
      "outputs": [],
      "source": [
        "def read_file(url: str, local_path: str, type_file: str) -> DataFrame:\n",
        "  \"\"\"Função para ler arquivo e retornar um Dataframe.\"\"\"\n",
        "  if not os.path.exists(local_path):\n",
        "    response = requests.get(url)\n",
        "    with open(local_path, \"wb\") as f:\n",
        "        f.write(response.content)\n",
        "  if type_file == \"json\":\n",
        "    return spark.read.json(local_path, multiLine=False)\n",
        "  elif type_file == \"csv\":\n",
        "    return spark.read.option(\"header\", \"true\").csv(local_path)\n",
        "  elif type_file == \"tar\":\n",
        "\n",
        "    arquivos_extraidos = \"/tmp/ab_test_ref\"\n",
        "\n",
        "    os.makedirs(arquivos_extraidos, exist_ok=True)\n",
        "\n",
        "    with tarfile.open(local_path, \"r:gz\") as tar:\n",
        "        tar.extractall(path=arquivos_extraidos)\n",
        "\n",
        "    filename = \"\"\n",
        "    for root, dirs, files in os.walk(arquivos_extraidos):\n",
        "        for filename in files:\n",
        "            print(filename) # print para visualizar todos os arquivos exraídos\n",
        "    if \".csv\" in filename: # se houver algum arquivo csv, junte todos os arquivos deste tipo no dataframe\n",
        "      return spark.read.option(\"header\", \"true\").csv(arquivos_extraidos + \"/*.csv\")\n",
        "    else: # se houver algum arquivo json, junte todos os arquivos deste tipo no dataframe\n",
        "      return spark.read.json(arquivos_extraidos + \"/*.json\")\n",
        "      #pode acontecer de ter arquivos de diferentes tipos misturados, mas para este estudo vamos assumir que todos são do mesmo tipo\n"
      ]
    },
    {
      "cell_type": "code",
      "source": [
        "url_pedidos = \"https://data-architect-test-source.s3-sa-east-1.amazonaws.com/order.json.gz\"\n",
        "url_usuarios = \"https://data-architect-test-source.s3-sa-east-1.amazonaws.com/consumer.csv.gz\"\n",
        "url_merchants = \"https://data-architect-test-source.s3-sa-east-1.amazonaws.com/restaurant.csv.gz\"\n",
        "url_test_ab = \"https://data-architect-test-source.s3-sa-east-1.amazonaws.com/ab_test_ref.tar.gz\"\n",
        "\n",
        "local_path_pedidos = \"/tmp/order.json.gz\"\n",
        "local_path_usuarios = \"/tmp/consumer.csv.gz\"\n",
        "local_path_merchants = \"/tmp/restaurant.csv.gz\"\n",
        "local_path_teste_ab = \"/tmp/ab_test_ref.tar.gz\"\n",
        "\n",
        "pedidos = read_file(url_pedidos, local_path_pedidos, \"json\").cache()\n",
        "usuarios = read_file(url_usuarios, local_path_usuarios, \"csv\").cache()\n",
        "merchants = read_file(url_merchants, local_path_merchants, \"csv\").cache()\n",
        "teste_ab = read_file(url_test_ab, local_path_teste_ab, \"tar\").cache()"
      ],
      "metadata": {
        "colab": {
          "base_uri": "https://localhost:8080/"
        },
        "id": "S2EDf_Z_ei-3",
        "outputId": "e50f9d43-1b2a-49a4-ef69-19be285efa4e"
      },
      "execution_count": 4,
      "outputs": [
        {
          "output_type": "stream",
          "name": "stdout",
          "text": [
            "._ab_test_ref.csv\n",
            "ab_test_ref.csv\n"
          ]
        }
      ]
    },
    {
      "cell_type": "code",
      "source": [
        "pedidos.show(5)"
      ],
      "metadata": {
        "colab": {
          "base_uri": "https://localhost:8080/"
        },
        "id": "JLFqLEEMpaYK",
        "outputId": "373de84d-4cc4-4c41-afe6-12daf5176ff8"
      },
      "execution_count": 5,
      "outputs": [
        {
          "output_type": "stream",
          "name": "stdout",
          "text": [
            "+-----------+--------------------+-------------+---------------------+------------------------+-------------------------+----------------------------+-------------------------+--------------------------+----------------------+-------------------------+--------------------+--------------------+-----------------+------------------+-----------------+--------------------+--------------------+---------------+--------------------+------------------+---------------+\n",
            "|        cpf|         customer_id|customer_name|delivery_address_city|delivery_address_country|delivery_address_district|delivery_address_external_id|delivery_address_latitude|delivery_address_longitude|delivery_address_state|delivery_address_zip_code|               items|         merchant_id|merchant_latitude|merchant_longitude|merchant_timezone|    order_created_at|            order_id|order_scheduled|order_scheduled_date|order_total_amount|origin_platform|\n",
            "+-----------+--------------------+-------------+---------------------+------------------------+-------------------------+----------------------------+-------------------------+--------------------------+----------------------+-------------------------+--------------------+--------------------+-----------------+------------------+-----------------+--------------------+--------------------+---------------+--------------------+------------------+---------------+\n",
            "|80532101763|7ba88a68bb2a3504c...|      GUSTAVO|               FRANCA|                      BR|         JARDIM ESPRAIADO|                     6736655|                   -47.39|                    -20.55|                    SP|                    14403|[{\"name\": \"Parmeg...|a992a079a651e699d...|           -47.39|            -20.55|America/Sao_Paulo|2019-01-17T22:50:...|33e0612d62e5eb42a...|          false|                NULL|              46.0|        ANDROID|\n",
            "|43352103961|078acecdcf7fa89d3...|     MICHELLE|               SANTOS|                      BR|             CAMPO GRANDE|                     8759216|                   -46.34|                    -23.96|                    SP|                    11070|[{\"name\": \"Filé M...|5152f28ee0518b880...|           -46.34|            -23.96|America/Sao_Paulo|2019-01-17T17:51:...|148c4353a2952f3fe...|          false|                NULL|             104.5|        ANDROID|\n",
            "|38650991217|0e38a3237b5946e8a...|       VICTOR|            GUARULHOS|                      BR|             JARDIM ROSSI|                     8765930|                   -46.53|                    -23.44|                    SP|                    71304|[{\"name\": \"GRANDE...|b6096419455c35d06...|           -46.53|            -23.44|America/Sao_Paulo|2019-01-17T22:53:...|c37e495a91b498bb7...|          false|                NULL|              35.0|            IOS|\n",
            "|63579726866|cab1a004b7206d079...|        ANNIE|            SAO PAULO|                      BR|         PARQUE SAO JORGE|                     7834087|                   -46.57|                    -23.53|                    SP|                    30870|[{\"name\": \"CALABR...|082bfdcdf6ccdc343...|           -46.57|            -23.53|America/Sao_Paulo|2019-01-17T23:56:...|b4df94142d2135461...|          false|                NULL|              40.8|            IOS|\n",
            "|90617788806|aa7edf5b166b8c843...|       DANIEL|              VITORIA|                      BR|           JARDIM CAMBURI|                     7211683|                   -40.27|                    -20.25|                    ES|                    29090|[{\"name\": \"GRANDE...|d7adb764bac29ccb7...|           -40.27|            -20.25|America/Sao_Paulo|2019-01-17T23:40:...|4ff64b33b272c1886...|          false|                NULL|              48.5|        ANDROID|\n",
            "+-----------+--------------------+-------------+---------------------+------------------------+-------------------------+----------------------------+-------------------------+--------------------------+----------------------+-------------------------+--------------------+--------------------+-----------------+------------------+-----------------+--------------------+--------------------+---------------+--------------------+------------------+---------------+\n",
            "only showing top 5 rows\n",
            "\n"
          ]
        }
      ]
    },
    {
      "cell_type": "code",
      "source": [
        "usuarios.show(5)"
      ],
      "metadata": {
        "colab": {
          "base_uri": "https://localhost:8080/"
        },
        "id": "JOo2pSgwvxIN",
        "outputId": "fff4db70-8895-4cec-e907-d8d2e87db398"
      },
      "execution_count": 6,
      "outputs": [
        {
          "output_type": "stream",
          "name": "stdout",
          "text": [
            "+--------------------+--------+--------------------+------+-------------+-------------------+---------------------+\n",
            "|         customer_id|language|          created_at|active|customer_name|customer_phone_area|customer_phone_number|\n",
            "+--------------------+--------+--------------------+------+-------------+-------------------+---------------------+\n",
            "|e8cc60860e09c0bb1...|   pt-br|2018-04-05T14:49:...|  true|         NUNO|                 46|            816135924|\n",
            "|a2834a38a9876cf74...|   pt-br|2018-01-14T21:40:...|  true|     ADRIELLY|                 59|            231330577|\n",
            "|41e1051728eba1334...|   pt-br|2018-01-07T03:47:...|  true|        PAULA|                 62|            347597883|\n",
            "|8e7c1dcb64edf95c9...|   pt-br|2018-01-10T22:17:...|  true|       HELTON|                 13|            719366842|\n",
            "|7823d4cf4150c5dae...|   pt-br|2018-04-06T00:16:...|  true|       WENDER|                 76|            543232158|\n",
            "+--------------------+--------+--------------------+------+-------------+-------------------+---------------------+\n",
            "only showing top 5 rows\n",
            "\n"
          ]
        }
      ]
    },
    {
      "cell_type": "code",
      "source": [
        "merchants.show(5)"
      ],
      "metadata": {
        "colab": {
          "base_uri": "https://localhost:8080/"
        },
        "id": "dIDvPFqlxGYE",
        "outputId": "1603d492-3b85-4c41-d583-c8b950102bc3"
      },
      "execution_count": 7,
      "outputs": [
        {
          "output_type": "stream",
          "name": "stdout",
          "text": [
            "+--------------------+--------------------+-------+-----------+--------------+------------+-------------+-------------------+-----------------+--------------+--------------+----------------+\n",
            "|                  id|          created_at|enabled|price_range|average_ticket|takeout_time|delivery_time|minimum_order_value|merchant_zip_code| merchant_city|merchant_state|merchant_country|\n",
            "+--------------------+--------------------+-------+-----------+--------------+------------+-------------+-------------------+-----------------+--------------+--------------+----------------+\n",
            "|d19ff6fca6288939b...|2017-01-23T12:52:...|  false|          3|          60.0|           0|           50|               30.0|            14025|RIBEIRAO PRETO|            SP|              BR|\n",
            "|631df0985fdbbaf27...|2017-01-20T13:14:...|   true|          3|          60.0|           0|            0|               30.0|            50180|     SAO PAULO|            SP|              BR|\n",
            "|135c5c4ae4c1ec1fd...|2017-01-23T12:46:...|   true|          5|         100.0|           0|           45|               10.0|            23090|RIO DE JANEIRO|            RJ|              BR|\n",
            "|d26f84c470451f752...|2017-01-20T13:15:...|   true|          3|          80.0|           0|            0|               18.9|            40255|      SALVADOR|            BA|              BR|\n",
            "|97b9884600ea71923...|2017-01-20T13:14:...|   true|          3|          60.0|           0|            0|               25.0|            64600|       BARUERI|            SP|              BR|\n",
            "+--------------------+--------------------+-------+-----------+--------------+------------+-------------+-------------------+-----------------+--------------+--------------+----------------+\n",
            "only showing top 5 rows\n",
            "\n"
          ]
        }
      ]
    },
    {
      "cell_type": "code",
      "source": [
        "teste_ab.show(5, truncate=False)"
      ],
      "metadata": {
        "colab": {
          "base_uri": "https://localhost:8080/"
        },
        "id": "71nIXdCnxILq",
        "outputId": "0f33e3a0-4b83-4e8a-a799-422d7322cb34"
      },
      "execution_count": 8,
      "outputs": [
        {
          "output_type": "stream",
          "name": "stdout",
          "text": [
            "+----------------------------------------------------------------+---------+\n",
            "|customer_id                                                     |is_target|\n",
            "+----------------------------------------------------------------+---------+\n",
            "|755e1fa18f25caec5edffb188b13fd844b2af8cf5adedcf77c028f36cb9382ea|target   |\n",
            "|b821aa8372b8e5b82cdc283742757df8c45eecdd72adf411716e710525d4edf1|control  |\n",
            "|d425d6ee4c9d4e211b71da8fc60bf6c5336b2ea9af9cc007f5297541ec40b63b|control  |\n",
            "|6a7089eea0a5dc294fbccd4fa24d0d84a90c1cc12e829c8b535718bbc651ab02|target   |\n",
            "|dad6b7e222bab31c0332b0ccd9fa5dbd147008facd268f5e3763fa657c23a58d|control  |\n",
            "+----------------------------------------------------------------+---------+\n",
            "only showing top 5 rows\n",
            "\n"
          ]
        }
      ]
    },
    {
      "cell_type": "code",
      "source": [
        "from pyspark.sql.functions import col, broadcast, when, count, isnan, count_distinct, sum, avg, row_number, lag, date_diff, round, max, to_date, lit\n",
        "from pyspark.sql.window import Window"
      ],
      "metadata": {
        "id": "Or44Op0DmgP_"
      },
      "execution_count": 9,
      "outputs": []
    },
    {
      "cell_type": "markdown",
      "source": [
        "# Entendendo os dados"
      ],
      "metadata": {
        "id": "H8Quq9ZsldW-"
      }
    },
    {
      "cell_type": "code",
      "source": [
        "def df_info(df: DataFrame, colunas: list) -> None:\n",
        "  \"\"\"Função para auxiliar a identificar tamanho da base, tipo das colunas,\n",
        "   valores nulos, duplicidade em colunas específicas na base.\"\"\"\n",
        "  # validando o tipo das colunas\n",
        "  df.printSchema()\n",
        "\n",
        "  # validando o tamanho da base\n",
        "  print(f\"Qtd de linhas: {df.count()}\")\n",
        "\n",
        "  print(\"\\nValores nulos\")\n",
        "  df.select([count(when(col(c).isNull(), c)).alias(c) for c in df.columns]).show()\n",
        "\n",
        "  print(\"\\nValidando valores duplicados\")\n",
        "  for column in colunas:\n",
        "    num_duplicados = df.groupBy(column).count().where(col(\"count\") > 1).count()\n",
        "    print(f\"\\n{column}: {num_duplicados}\")"
      ],
      "metadata": {
        "id": "6jlX14IvlcT0"
      },
      "execution_count": 10,
      "outputs": []
    },
    {
      "cell_type": "code",
      "source": [
        "df_info(usuarios, [\"customer_id\"])"
      ],
      "metadata": {
        "colab": {
          "base_uri": "https://localhost:8080/"
        },
        "id": "qBxwerIon3yf",
        "outputId": "31b14173-a5a8-4166-cd26-afa4db56f930"
      },
      "execution_count": 11,
      "outputs": [
        {
          "output_type": "stream",
          "name": "stdout",
          "text": [
            "root\n",
            " |-- customer_id: string (nullable = true)\n",
            " |-- language: string (nullable = true)\n",
            " |-- created_at: string (nullable = true)\n",
            " |-- active: string (nullable = true)\n",
            " |-- customer_name: string (nullable = true)\n",
            " |-- customer_phone_area: string (nullable = true)\n",
            " |-- customer_phone_number: string (nullable = true)\n",
            "\n",
            "Qtd de linhas: 806156\n",
            "\n",
            "Valores nulos\n",
            "+-----------+--------+----------+------+-------------+-------------------+---------------------+\n",
            "|customer_id|language|created_at|active|customer_name|customer_phone_area|customer_phone_number|\n",
            "+-----------+--------+----------+------+-------------+-------------------+---------------------+\n",
            "|          0|       0|         0|     0|            0|                  0|                    0|\n",
            "+-----------+--------+----------+------+-------------+-------------------+---------------------+\n",
            "\n",
            "\n",
            "Validando valores duplicados\n",
            "\n",
            "customer_id: 0\n"
          ]
        }
      ]
    },
    {
      "cell_type": "code",
      "source": [
        "df_info(pedidos, [\"order_id\"])"
      ],
      "metadata": {
        "colab": {
          "base_uri": "https://localhost:8080/"
        },
        "id": "4sGDCxaJojFP",
        "outputId": "666af327-b29d-4260-a90e-1e7a518c45f7"
      },
      "execution_count": 12,
      "outputs": [
        {
          "output_type": "stream",
          "name": "stdout",
          "text": [
            "root\n",
            " |-- cpf: string (nullable = true)\n",
            " |-- customer_id: string (nullable = true)\n",
            " |-- customer_name: string (nullable = true)\n",
            " |-- delivery_address_city: string (nullable = true)\n",
            " |-- delivery_address_country: string (nullable = true)\n",
            " |-- delivery_address_district: string (nullable = true)\n",
            " |-- delivery_address_external_id: string (nullable = true)\n",
            " |-- delivery_address_latitude: string (nullable = true)\n",
            " |-- delivery_address_longitude: string (nullable = true)\n",
            " |-- delivery_address_state: string (nullable = true)\n",
            " |-- delivery_address_zip_code: string (nullable = true)\n",
            " |-- items: string (nullable = true)\n",
            " |-- merchant_id: string (nullable = true)\n",
            " |-- merchant_latitude: string (nullable = true)\n",
            " |-- merchant_longitude: string (nullable = true)\n",
            " |-- merchant_timezone: string (nullable = true)\n",
            " |-- order_created_at: string (nullable = true)\n",
            " |-- order_id: string (nullable = true)\n",
            " |-- order_scheduled: boolean (nullable = true)\n",
            " |-- order_scheduled_date: string (nullable = true)\n",
            " |-- order_total_amount: double (nullable = true)\n",
            " |-- origin_platform: string (nullable = true)\n",
            "\n",
            "Qtd de linhas: 3670826\n",
            "\n",
            "Valores nulos\n",
            "+---+-----------+-------------+---------------------+------------------------+-------------------------+----------------------------+-------------------------+--------------------------+----------------------+-------------------------+-----+-----------+-----------------+------------------+-----------------+----------------+--------+---------------+--------------------+------------------+---------------+\n",
            "|cpf|customer_id|customer_name|delivery_address_city|delivery_address_country|delivery_address_district|delivery_address_external_id|delivery_address_latitude|delivery_address_longitude|delivery_address_state|delivery_address_zip_code|items|merchant_id|merchant_latitude|merchant_longitude|merchant_timezone|order_created_at|order_id|order_scheduled|order_scheduled_date|order_total_amount|origin_platform|\n",
            "+---+-----------+-------------+---------------------+------------------------+-------------------------+----------------------------+-------------------------+--------------------------+----------------------+-------------------------+-----+-----------+-----------------+------------------+-----------------+----------------+--------+---------------+--------------------+------------------+---------------+\n",
            "|  0|       8505|            0|                    0|                       0|                        0|                           0|                        0|                         0|                     0|                        0|    0|          0|                0|                 0|                0|               0|       0|              0|             3670326|                 0|              2|\n",
            "+---+-----------+-------------+---------------------+------------------------+-------------------------+----------------------------+-------------------------+--------------------------+----------------------+-------------------------+-----+-----------+-----------------+------------------+-----------------+----------------+--------+---------------+--------------------+------------------+---------------+\n",
            "\n",
            "\n",
            "Validando valores duplicados\n",
            "\n",
            "order_id: 1237852\n"
          ]
        }
      ]
    },
    {
      "cell_type": "code",
      "source": [
        "# removendo os usuários nulos da base\n",
        "# na base de pedidos temos um número pequeno de pedidos sem customer_id atribuído,\n",
        "# porém como o objetivo da análise é validar os resultados do teste a/b, estes pedidos serão removidos visto que\n",
        "# não participaram do teste a/b\n",
        "pedidos_validos_ab = pedidos.where(col(\"customer_id\").isNotNull())"
      ],
      "metadata": {
        "id": "tcZ9ZxgFurDv"
      },
      "execution_count": 13,
      "outputs": []
    },
    {
      "cell_type": "code",
      "source": [
        "# podemos ver que a base de pedidos possui uma grande voliumentria de pedidos duplicados\n",
        "# foi analisado uma amostra e notou-se que para os pedidos duplicados, os campos que diferente são CPF e data de criação do pedido\n",
        "# pode ter acontecido algum problema no produto ao gerar o número do pedido, ou até mesmo ao gerar a base,\n",
        "# diantes disto podemos seguir com algumas tratativas, como criar um novo order_id concatenando com o CPF, ou\n",
        "# dentro dos duplicados manter o pedido mais atual, ou a mais antigo.\n",
        "# Como os valores dos pedidos são iguais, merchants, itens também são idênticos, optou-se por manter o pedido mais antigo\n",
        "\n",
        "\n",
        "pedidos_validos_ab = (pedidos_validos_ab\n",
        "                      .withColumn(\"rank\", row_number().over(Window.partitionBy(\"order_id\").orderBy(\"order_created_at\")))\n",
        "                      .where(col(\"rank\") == 1)\n",
        "                      .drop(\"rank\")\n",
        ").cache()\n",
        "df_info(pedidos_validos_ab, [\"order_id\"])"
      ],
      "metadata": {
        "colab": {
          "base_uri": "https://localhost:8080/"
        },
        "id": "vShWU8hWHote",
        "outputId": "f619a4cb-b2f3-4d95-d00f-f0833a7e69d2"
      },
      "execution_count": 14,
      "outputs": [
        {
          "output_type": "stream",
          "name": "stdout",
          "text": [
            "root\n",
            " |-- cpf: string (nullable = true)\n",
            " |-- customer_id: string (nullable = true)\n",
            " |-- customer_name: string (nullable = true)\n",
            " |-- delivery_address_city: string (nullable = true)\n",
            " |-- delivery_address_country: string (nullable = true)\n",
            " |-- delivery_address_district: string (nullable = true)\n",
            " |-- delivery_address_external_id: string (nullable = true)\n",
            " |-- delivery_address_latitude: string (nullable = true)\n",
            " |-- delivery_address_longitude: string (nullable = true)\n",
            " |-- delivery_address_state: string (nullable = true)\n",
            " |-- delivery_address_zip_code: string (nullable = true)\n",
            " |-- items: string (nullable = true)\n",
            " |-- merchant_id: string (nullable = true)\n",
            " |-- merchant_latitude: string (nullable = true)\n",
            " |-- merchant_longitude: string (nullable = true)\n",
            " |-- merchant_timezone: string (nullable = true)\n",
            " |-- order_created_at: string (nullable = true)\n",
            " |-- order_id: string (nullable = true)\n",
            " |-- order_scheduled: boolean (nullable = true)\n",
            " |-- order_scheduled_date: string (nullable = true)\n",
            " |-- order_total_amount: double (nullable = true)\n",
            " |-- origin_platform: string (nullable = true)\n",
            "\n",
            "Qtd de linhas: 2427415\n",
            "\n",
            "Valores nulos\n",
            "+---+-----------+-------------+---------------------+------------------------+-------------------------+----------------------------+-------------------------+--------------------------+----------------------+-------------------------+-----+-----------+-----------------+------------------+-----------------+----------------+--------+---------------+--------------------+------------------+---------------+\n",
            "|cpf|customer_id|customer_name|delivery_address_city|delivery_address_country|delivery_address_district|delivery_address_external_id|delivery_address_latitude|delivery_address_longitude|delivery_address_state|delivery_address_zip_code|items|merchant_id|merchant_latitude|merchant_longitude|merchant_timezone|order_created_at|order_id|order_scheduled|order_scheduled_date|order_total_amount|origin_platform|\n",
            "+---+-----------+-------------+---------------------+------------------------+-------------------------+----------------------------+-------------------------+--------------------------+----------------------+-------------------------+-----+-----------+-----------------+------------------+-----------------+----------------+--------+---------------+--------------------+------------------+---------------+\n",
            "|  0|          0|            0|                    0|                       0|                        0|                           0|                        0|                         0|                     0|                        0|    0|          0|                0|                 0|                0|               0|       0|              0|             2427068|                 0|              2|\n",
            "+---+-----------+-------------+---------------------+------------------------+-------------------------+----------------------------+-------------------------+--------------------------+----------------------+-------------------------+-----+-----------+-----------------+------------------+-----------------+----------------+--------+---------------+--------------------+------------------+---------------+\n",
            "\n",
            "\n",
            "Validando valores duplicados\n",
            "\n",
            "order_id: 0\n"
          ]
        }
      ]
    },
    {
      "cell_type": "code",
      "source": [
        "df_info(merchants, [\"id\"])"
      ],
      "metadata": {
        "colab": {
          "base_uri": "https://localhost:8080/"
        },
        "id": "uYn3IuVWom0D",
        "outputId": "16816e2d-bdd5-4fcd-cc1a-22039c068b54"
      },
      "execution_count": 15,
      "outputs": [
        {
          "output_type": "stream",
          "name": "stdout",
          "text": [
            "root\n",
            " |-- id: string (nullable = true)\n",
            " |-- created_at: string (nullable = true)\n",
            " |-- enabled: string (nullable = true)\n",
            " |-- price_range: string (nullable = true)\n",
            " |-- average_ticket: string (nullable = true)\n",
            " |-- takeout_time: string (nullable = true)\n",
            " |-- delivery_time: string (nullable = true)\n",
            " |-- minimum_order_value: string (nullable = true)\n",
            " |-- merchant_zip_code: string (nullable = true)\n",
            " |-- merchant_city: string (nullable = true)\n",
            " |-- merchant_state: string (nullable = true)\n",
            " |-- merchant_country: string (nullable = true)\n",
            "\n",
            "Qtd de linhas: 7292\n",
            "\n",
            "Valores nulos\n",
            "+---+----------+-------+-----------+--------------+------------+-------------+-------------------+-----------------+-------------+--------------+----------------+\n",
            "| id|created_at|enabled|price_range|average_ticket|takeout_time|delivery_time|minimum_order_value|merchant_zip_code|merchant_city|merchant_state|merchant_country|\n",
            "+---+----------+-------+-----------+--------------+------------+-------------+-------------------+-----------------+-------------+--------------+----------------+\n",
            "|  0|         0|      0|          0|             0|           0|            1|                 95|                0|            0|             0|               0|\n",
            "+---+----------+-------+-----------+--------------+------------+-------------+-------------------+-----------------+-------------+--------------+----------------+\n",
            "\n",
            "\n",
            "Validando valores duplicados\n",
            "\n",
            "id: 0\n"
          ]
        }
      ]
    },
    {
      "cell_type": "code",
      "source": [
        "df_info(teste_ab, [\"customer_id\"])"
      ],
      "metadata": {
        "colab": {
          "base_uri": "https://localhost:8080/"
        },
        "id": "_ye1-XJEosVd",
        "outputId": "b8738128-a2c9-4a09-d416-1dd6f47eb6f6"
      },
      "execution_count": 16,
      "outputs": [
        {
          "output_type": "stream",
          "name": "stdout",
          "text": [
            "root\n",
            " |-- customer_id: string (nullable = true)\n",
            " |-- is_target: string (nullable = true)\n",
            "\n",
            "Qtd de linhas: 806467\n",
            "\n",
            "Valores nulos\n",
            "+-----------+---------+\n",
            "|customer_id|is_target|\n",
            "+-----------+---------+\n",
            "|          0|        0|\n",
            "+-----------+---------+\n",
            "\n",
            "\n",
            "Validando valores duplicados\n",
            "\n",
            "customer_id: 0\n"
          ]
        }
      ]
    },
    {
      "cell_type": "markdown",
      "source": [
        "# EDA"
      ],
      "metadata": {
        "id": "30hCY7gSqwjK"
      }
    },
    {
      "cell_type": "code",
      "source": [
        "# tem no teste_Ab mas não comprou? ou seja, não está na base de pedidos?\n",
        "c = pedidos_validos_ab.select(col(\"customer_id\").alias(\"custumer_with_order\")).distinct()\n",
        "teste_ab.join(c, col(\"customer_id\") == col(\"custumer_with_order\"), \"left\").where(col(\"custumer_with_order\").isNull()).show()"
      ],
      "metadata": {
        "colab": {
          "base_uri": "https://localhost:8080/"
        },
        "id": "Tmf1IoH2iXaP",
        "outputId": "0f6d9f84-baaf-4c7c-c7e1-d6d0f0af4a33"
      },
      "execution_count": 17,
      "outputs": [
        {
          "output_type": "stream",
          "name": "stdout",
          "text": [
            "+-----------+---------+-------------------+\n",
            "|customer_id|is_target|custumer_with_order|\n",
            "+-----------+---------+-------------------+\n",
            "|       null|   target|               NULL|\n",
            "+-----------+---------+-------------------+\n",
            "\n"
          ]
        }
      ]
    },
    {
      "cell_type": "markdown",
      "source": [
        "# Sugestão de Teste A/B\n",
        "- Todos os usuários do teste a/b tem algum pedido, logo, uma sugestão é ter uma base sobre todas os usuários que receberam cupons para conseguirmos calcular conversão;\n",
        "- Teste com diferentes valores de cupons para entender se o valor do desconto impacta no ticket médio;\n",
        "- Frete grátis: entender se cupons de frete grátis aumentam o ticket médio;\n",
        "- Avaliar base de de satisfação (NPS) para entender se a disponibilização de cupons impactam na experiencia e satisfação do usuário;\n",
        "- Carrinho abandonado: teste a/b de envio de cupons para usuários que abandonaram carrinho e analisar a finalização da compra (conversão). Aplicável principalmente para usuários de produtos de farmácia e mercado, visto que a compra de refeições é feita por usuários que já esperam uma entrega rápida."
      ],
      "metadata": {
        "id": "1DWxe_APrEdQ"
      }
    },
    {
      "cell_type": "code",
      "source": [
        "teste_ab.groupBy(col(\"is_target\")).agg(count_distinct(\"customer_id\")).show()"
      ],
      "metadata": {
        "colab": {
          "base_uri": "https://localhost:8080/"
        },
        "id": "4v9X0xxy0gxX",
        "outputId": "788d5bf3-6220-4abf-803a-33dc3fbe5fe0"
      },
      "execution_count": 18,
      "outputs": [
        {
          "output_type": "stream",
          "name": "stdout",
          "text": [
            "+---------+---------------------------+\n",
            "|is_target|count(DISTINCT customer_id)|\n",
            "+---------+---------------------------+\n",
            "|  control|                     360542|\n",
            "|   target|                     445925|\n",
            "+---------+---------------------------+\n",
            "\n"
          ]
        }
      ]
    },
    {
      "cell_type": "code",
      "source": [
        "pedidos_final = pedidos_validos_ab.join(broadcast(teste_ab), ['customer_id'], \"left\").cache()\n",
        "#pedidos_final.show(5)"
      ],
      "metadata": {
        "id": "0AX542PvqzXi"
      },
      "execution_count": 19,
      "outputs": []
    },
    {
      "cell_type": "code",
      "source": [
        "#pedidos_final.where(col(\"is_target\").isNull()).show()"
      ],
      "metadata": {
        "id": "atxd_VB75nGS"
      },
      "execution_count": 20,
      "outputs": []
    },
    {
      "cell_type": "code",
      "source": [
        "pedidos_final.groupBy(col(\"is_target\")).agg(\n",
        "                                      count_distinct(col(\"order_id\")).alias(\"distinct_orders\"),\n",
        "                                      count_distinct(col(\"customer_id\")).alias(\"distinct_customers\"),\n",
        "                                      count_distinct(col(\"merchant_id\")).alias(\"distinct_merchants\"),\n",
        "                                      sum(col(\"order_total_amount\")).alias(\"order_total_amount\"),\n",
        "                                      avg(col(\"order_total_amount\")).alias(\"order_avg_amount\"),\n",
        "                                      (sum(col(\"order_total_amount\"))/count_distinct(col(\"order_id\"))).alias(\"ticket_medio\"),\n",
        "\n",
        "\n",
        "                                      ).show()"
      ],
      "metadata": {
        "colab": {
          "base_uri": "https://localhost:8080/"
        },
        "id": "k4KWIUWoPxke",
        "outputId": "dd5614e1-5303-4277-ba5e-11491953585c"
      },
      "execution_count": 21,
      "outputs": [
        {
          "output_type": "stream",
          "name": "stdout",
          "text": [
            "+---------+---------------+------------------+------------------+-------------------+-----------------+-----------------+\n",
            "|is_target|distinct_orders|distinct_customers|distinct_merchants| order_total_amount| order_avg_amount|     ticket_medio|\n",
            "+---------+---------------+------------------+------------------+-------------------+-----------------+-----------------+\n",
            "|  control|        1010738|            360542|              7196|4.843220348999915E7|47.91766361806833|47.91766361806833|\n",
            "|   target|        1416677|            445924|              7227| 6.77299864499999E7|47.80905347513929|47.80905347513929|\n",
            "+---------+---------------+------------------+------------------+-------------------+-----------------+-----------------+\n",
            "\n"
          ]
        }
      ]
    },
    {
      "cell_type": "markdown",
      "source": [
        "# tempo entre compras"
      ],
      "metadata": {
        "id": "h-A1L8BGLeqn"
      }
    },
    {
      "cell_type": "code",
      "source": [
        "df = pedidos_final.withColumn(\"data_criacao_pedido\", col(\"order_created_at\").cast(\"date\")).select(\"customer_id\", \"is_target\", \"data_criacao_pedido\")\n",
        "\n",
        "df_tempo_entre_compras = df.withColumn(\"data_pedido_anterior\", lag(\"data_criacao_pedido\") \\\n",
        "                                       .over(Window.partitionBy(\"customer_id\").orderBy(\"data_criacao_pedido\"))) \\\n",
        "                            .withColumn(\"tempo_entre_compras\", date_diff(\"data_criacao_pedido\", \"data_pedido_anterior\"))\n",
        "\n",
        "df_tempo_entre_compras.show()"
      ],
      "metadata": {
        "colab": {
          "base_uri": "https://localhost:8080/"
        },
        "id": "dJxnLIInROiS",
        "outputId": "a10c8616-477e-48e2-c675-c7a9677b3ae5"
      },
      "execution_count": 22,
      "outputs": [
        {
          "output_type": "stream",
          "name": "stdout",
          "text": [
            "+--------------------+---------+-------------------+--------------------+-------------------+\n",
            "|         customer_id|is_target|data_criacao_pedido|data_pedido_anterior|tempo_entre_compras|\n",
            "+--------------------+---------+-------------------+--------------------+-------------------+\n",
            "|00006f567cb362ba9...|   target|         2019-01-01|                NULL|               NULL|\n",
            "|00006f567cb362ba9...|   target|         2019-01-01|          2019-01-01|                  0|\n",
            "|00006f567cb362ba9...|   target|         2019-01-02|          2019-01-01|                  1|\n",
            "|00006f567cb362ba9...|   target|         2019-01-03|          2019-01-02|                  1|\n",
            "|00006f567cb362ba9...|   target|         2019-01-24|          2019-01-03|                 21|\n",
            "|0000bb10fb47a1d6b...|  control|         2018-12-21|                NULL|               NULL|\n",
            "|0000bb10fb47a1d6b...|  control|         2018-12-21|          2018-12-21|                  0|\n",
            "|0000c21984ae00cef...|  control|         2018-12-13|                NULL|               NULL|\n",
            "|0000c21984ae00cef...|  control|         2018-12-14|          2018-12-13|                  1|\n",
            "|0000c21984ae00cef...|  control|         2018-12-15|          2018-12-14|                  1|\n",
            "|0000c21984ae00cef...|  control|         2018-12-15|          2018-12-15|                  0|\n",
            "|0000c21984ae00cef...|  control|         2018-12-16|          2018-12-15|                  1|\n",
            "|0000c21984ae00cef...|  control|         2018-12-18|          2018-12-16|                  2|\n",
            "|0000c21984ae00cef...|  control|         2018-12-22|          2018-12-18|                  4|\n",
            "|0000c21984ae00cef...|  control|         2018-12-23|          2018-12-22|                  1|\n",
            "|0000c21984ae00cef...|  control|         2018-12-25|          2018-12-23|                  2|\n",
            "|0000c21984ae00cef...|  control|         2018-12-25|          2018-12-25|                  0|\n",
            "|0000c21984ae00cef...|  control|         2018-12-29|          2018-12-25|                  4|\n",
            "|0000c21984ae00cef...|  control|         2019-01-02|          2018-12-29|                  4|\n",
            "|0000c21984ae00cef...|  control|         2019-01-04|          2019-01-02|                  2|\n",
            "+--------------------+---------+-------------------+--------------------+-------------------+\n",
            "only showing top 20 rows\n",
            "\n"
          ]
        }
      ]
    },
    {
      "cell_type": "code",
      "source": [
        "tempo_medio_entre_compras = df_tempo_entre_compras.where(col(\"tempo_entre_compras\").isNotNull()).groupBy(\"is_target\").agg(avg(\"tempo_entre_compras\"))\n",
        "tempo_medio_entre_compras.show()"
      ],
      "metadata": {
        "colab": {
          "base_uri": "https://localhost:8080/"
        },
        "id": "o3rlj98aLiDG",
        "outputId": "6480e69d-abfc-4d34-9c00-a287bc649f57"
      },
      "execution_count": 23,
      "outputs": [
        {
          "output_type": "stream",
          "name": "stdout",
          "text": [
            "+---------+------------------------+\n",
            "|is_target|avg(tempo_entre_compras)|\n",
            "+---------+------------------------+\n",
            "|  control|       7.895633009123403|\n",
            "|   target|       7.901386861539444|\n",
            "+---------+------------------------+\n",
            "\n"
          ]
        }
      ]
    },
    {
      "cell_type": "code",
      "source": [
        "tempo_medio_entre_compras = df_tempo_entre_compras.groupBy(\"customer_id\",\"is_target\") \\\n",
        ".agg(round(avg(\"tempo_entre_compras\"),2).alias(\"tempo_medio_entre_compras\"),\n",
        "     max(\"data_criacao_pedido\").alias(\"data_ultima_compra\")) \\\n",
        ".withColumn(\"tempo_medio_entre_compras\", when(col(\"tempo_medio_entre_compras\").isNull(), 0).otherwise(col(\"tempo_medio_entre_compras\"))) \\\n",
        ".withColumn(\"recencia\", date_diff(to_date(lit(\"2019-02-01\")), \"data_ultima_compra\")) \\\n",
        ".drop(col(\"data_ultima_compra\"))\n",
        "\n",
        "\n",
        "tempo_medio_entre_compras.show()"
      ],
      "metadata": {
        "colab": {
          "base_uri": "https://localhost:8080/"
        },
        "id": "JzDXWNwUL0RM",
        "outputId": "1f8ac3ed-fcd2-479d-dba5-822a392ee70b"
      },
      "execution_count": 24,
      "outputs": [
        {
          "output_type": "stream",
          "name": "stdout",
          "text": [
            "+--------------------+---------+-------------------------+--------+\n",
            "|         customer_id|is_target|tempo_medio_entre_compras|recencia|\n",
            "+--------------------+---------+-------------------------+--------+\n",
            "|00006f567cb362ba9...|   target|                     5.75|       8|\n",
            "|0000bb10fb47a1d6b...|  control|                      0.0|      42|\n",
            "|0000c21984ae00cef...|  control|                     2.23|       1|\n",
            "|0001226e517517758...|   target|                      7.0|      48|\n",
            "|00016cfde8c0af0a4...|  control|                      0.0|      12|\n",
            "|000200d3759a5b4d0...|   target|                      0.0|      57|\n",
            "|00021cd56b6d6c980...|   target|                     11.5|      29|\n",
            "|00021f6dc15d10418...|   target|                     37.0|      16|\n",
            "|0002287b123ac1afc...|   target|                      0.0|      47|\n",
            "|00022b8c0c7af061f...|  control|                     3.25|      19|\n",
            "|00024bc2f09ce5769...|  control|                      0.0|      33|\n",
            "|00027035d16a4de43...|  control|                      0.0|      31|\n",
            "|000299d1aee7451f3...|  control|                      0.0|      11|\n",
            "|00029b26fb2121119...|   target|                      0.0|      10|\n",
            "|0002cc7394d677fdf...|  control|                      0.0|      49|\n",
            "|0003030c4d06fe6a0...|  control|                      0.0|      31|\n",
            "|00030b0416fc6a0ec...|  control|                      0.0|      48|\n",
            "|000380791e2338c6f...|  control|                      7.0|      40|\n",
            "|0003c0cc7d418e4b2...|   target|                      0.0|      38|\n",
            "|0003c75a4c176e43b...|   target|                     14.0|      21|\n",
            "+--------------------+---------+-------------------------+--------+\n",
            "only showing top 20 rows\n",
            "\n"
          ]
        }
      ]
    },
    {
      "cell_type": "code",
      "source": [
        "# qtd diferente de merchants, diversificação de estabelecimentos, entender se os clientes tem algum estabelecimento onde mais compram,\n",
        "# ou se compram em vários"
      ],
      "metadata": {
        "id": "q5eUp8_jH9Y5"
      },
      "execution_count": 25,
      "outputs": []
    },
    {
      "cell_type": "code",
      "source": [
        "frequencia_valor = pedidos_final.groupBy(col(\"customer_id\"),col(\"is_target\")) \\\n",
        ".agg(\n",
        "      count_distinct(col(\"order_id\")).alias(\"distinct_orders\"),\n",
        "      count_distinct(col(\"merchant_id\")).alias(\"distinct_merchants\"),\n",
        "      round(sum(col(\"order_total_amount\")),2).alias(\"order_total_amount\"),\n",
        "      round((sum(col(\"order_total_amount\"))/count_distinct(col(\"order_id\"))),2).alias(\"ticket_medio\"))\n",
        "frequencia_valor.show()"
      ],
      "metadata": {
        "colab": {
          "base_uri": "https://localhost:8080/"
        },
        "id": "GpSok6-Tvjjm",
        "outputId": "7df3757b-0b6a-422f-bef0-8bad051046e2"
      },
      "execution_count": 39,
      "outputs": [
        {
          "output_type": "stream",
          "name": "stdout",
          "text": [
            "+--------------------+---------+---------------+------------------+------------------+------------+\n",
            "|         customer_id|is_target|distinct_orders|distinct_merchants|order_total_amount|ticket_medio|\n",
            "+--------------------+---------+---------------+------------------+------------------+------------+\n",
            "|ddfdc1202bd21b07d...|  control|             18|                 7|            551.32|       30.63|\n",
            "|ed858ee2b8b73a5c4...|  control|             32|                16|           1999.03|       62.47|\n",
            "|bc03f83da6b98b509...|  control|              5|                 4|            245.11|       49.02|\n",
            "|756a01d9c11d4affc...|  control|              1|                 1|              52.0|        52.0|\n",
            "|04edd62e53c0b1700...|  control|              1|                 1|              48.0|        48.0|\n",
            "|2ede26bdea707c792...|   target|              9|                 7|            508.55|       56.51|\n",
            "|70388a43322330ac9...|  control|              2|                 2|             68.47|       34.24|\n",
            "|8a0040a463838dcf6...|  control|              1|                 1|              28.0|        28.0|\n",
            "|8f54761ea1966535d...|   target|              7|                 4|             450.3|       64.33|\n",
            "|de02951edc3a89d8e...|  control|              5|                 2|             134.8|       26.96|\n",
            "|6bd7cf61c1f743035...|   target|              6|                 2|            375.92|       62.65|\n",
            "|c64afe97556b7509b...|  control|              3|                 3|              67.9|       22.63|\n",
            "|b8cfb9f9836ea7348...|   target|              3|                 3|              97.7|       32.57|\n",
            "|2cea7c9987da437fb...|  control|              4|                 4|             219.4|       54.85|\n",
            "|ab1c733d02772b751...|  control|              3|                 3|             234.8|       78.27|\n",
            "|47790e9da02b39e84...|   target|             11|                10|            589.85|       53.62|\n",
            "|941f54ada846f4dd8...|   target|             34|                20|           2146.28|       63.13|\n",
            "|acdbd9c5b12a8ade0...|   target|             25|                 7|            1256.1|       50.24|\n",
            "|da89eef60bc687d1e...|  control|              1|                 1|              35.0|        35.0|\n",
            "|714978afd78778053...|  control|              6|                 2|             374.3|       62.38|\n",
            "+--------------------+---------+---------------+------------------+------------------+------------+\n",
            "only showing top 20 rows\n",
            "\n"
          ]
        }
      ]
    },
    {
      "cell_type": "code",
      "source": [
        "perfil_compra = tempo_medio_entre_compras.alias(\"t\") \\\n",
        ".join(frequencia_valor.alias(\"f\"), [\"customer_id\"], \"inner\") \\\n",
        ".withColumn(\"is_target_dummy\", when(col(\"t.is_target\") == \"target\", lit(1)).otherwise(lit(0))) \\\n",
        ".select(\"t.customer_id\",\n",
        "        \"is_target_dummy\",\n",
        "        \"tempo_medio_entre_compras\",\n",
        "        \"recencia\",\n",
        "        \"distinct_orders\",\n",
        "        \"distinct_merchants\",\n",
        "        \"order_total_amount\",\n",
        "        \"ticket_medio\"\n",
        "        )\n",
        "\n",
        "perfil_compra.show()"
      ],
      "metadata": {
        "colab": {
          "base_uri": "https://localhost:8080/"
        },
        "id": "0lEF5bckx7sr",
        "outputId": "beb8ce04-05f9-4c6c-c4a1-93b7de3ed1c7"
      },
      "execution_count": 41,
      "outputs": [
        {
          "output_type": "stream",
          "name": "stdout",
          "text": [
            "+--------------------+---------------+-------------------------+--------+---------------+------------------+------------------+------------+\n",
            "|         customer_id|is_target_dummy|tempo_medio_entre_compras|recencia|distinct_orders|distinct_merchants|order_total_amount|ticket_medio|\n",
            "+--------------------+---------------+-------------------------+--------+---------------+------------------+------------------+------------+\n",
            "|00006f567cb362ba9...|              1|                     5.75|       8|              5|                 4|             533.1|      106.62|\n",
            "|0000c21984ae00cef...|              0|                     2.23|       1|             23|                 8|           1011.36|       43.97|\n",
            "|0001226e517517758...|              1|                      7.0|      48|              2|                 2|              86.5|       43.25|\n",
            "|00021cd56b6d6c980...|              1|                     11.5|      29|              3|                 3|              47.8|       15.93|\n",
            "|00021f6dc15d10418...|              1|                     37.0|      16|              2|                 2|             174.6|        87.3|\n",
            "|0002287b123ac1afc...|              1|                      0.0|      47|              1|                 1|              53.8|        53.8|\n",
            "|00022b8c0c7af061f...|              0|                     3.25|      19|              5|                 5|              80.9|       16.18|\n",
            "|00027035d16a4de43...|              0|                      0.0|      31|              1|                 1|              81.0|        81.0|\n",
            "|00029b26fb2121119...|              1|                      0.0|      10|              1|                 1|              54.6|        54.6|\n",
            "|0002cc7394d677fdf...|              0|                      0.0|      49|              1|                 1|              43.9|        43.9|\n",
            "|0003030c4d06fe6a0...|              0|                      0.0|      31|              1|                 1|              24.9|        24.9|\n",
            "|00030b0416fc6a0ec...|              0|                      0.0|      48|              1|                 1|              27.0|        27.0|\n",
            "|000380791e2338c6f...|              0|                      7.0|      40|              2|                 2|              92.7|       46.35|\n",
            "|0003c75a4c176e43b...|              1|                     14.0|      21|              2|                 1|              52.6|        26.3|\n",
            "|0003fc1a7fe21c5f4...|              0|                     24.0|       6|              2|                 2|              69.0|        34.5|\n",
            "|000405bb6de6550fe...|              1|                      6.5|       3|              3|                 3|            175.07|       58.36|\n",
            "|00044a499977a84f7...|              0|                     11.0|      33|              2|                 1|              77.8|        38.9|\n",
            "|0004b7afc77516f62...|              0|                      0.0|      28|              1|                 1|              15.5|        15.5|\n",
            "|0004ef68b0899596d...|              0|                     6.11|       1|             10|                 8|            347.03|        34.7|\n",
            "|00054eb83edcbae85...|              0|                      7.0|      41|              3|                 3|              78.0|        26.0|\n",
            "+--------------------+---------------+-------------------------+--------+---------------+------------------+------------------+------------+\n",
            "only showing top 20 rows\n",
            "\n"
          ]
        }
      ]
    },
    {
      "cell_type": "code",
      "source": [
        "pd_perfil_compra = perfil_compra.toPandas()\n",
        "\n",
        "pd_perfil_compra[\"is_target_dummy\"] = pd_perfil_compra[\"is_target_dummy\"].astype(\"int\")"
      ],
      "metadata": {
        "id": "YuKQVJ2ozS6T"
      },
      "execution_count": 44,
      "outputs": []
    },
    {
      "cell_type": "code",
      "source": [
        "pd_perfil_compra.columns"
      ],
      "metadata": {
        "id": "RrJPahMIEQEI",
        "outputId": "b69ef6ef-301c-4be3-e7b3-eb1eda5f31d5",
        "colab": {
          "base_uri": "https://localhost:8080/"
        }
      },
      "execution_count": 52,
      "outputs": [
        {
          "output_type": "execute_result",
          "data": {
            "text/plain": [
              "Index(['customer_id', 'is_target_dummy', 'tempo_medio_entre_compras',\n",
              "       'recencia', 'distinct_orders', 'distinct_merchants',\n",
              "       'order_total_amount', 'ticket_medio'],\n",
              "      dtype='object')"
            ]
          },
          "metadata": {},
          "execution_count": 52
        }
      ]
    },
    {
      "cell_type": "code",
      "source": [
        "corr_perfil_compra = pd_perfil_compra.drop(columns=[\"customer_id\"])\n",
        "\n",
        "#correlação de pearson\n",
        "plt.figure(figsize=(20,8))\n",
        "sns.heatmap(corr_perfil_compra.corr(), annot = True, cmap = \"RdYlGn\");\n",
        "plt.title('Correlação de Pearson', size = 15)"
      ],
      "metadata": {
        "colab": {
          "base_uri": "https://localhost:8080/",
          "height": 574
        },
        "id": "25wSHUSvy7BD",
        "outputId": "8b0ad4a3-4955-4cb8-aabb-ff67bb7673d9"
      },
      "execution_count": 43,
      "outputs": [
        {
          "output_type": "execute_result",
          "data": {
            "text/plain": [
              "Text(0.5, 1.0, 'Correlação de Pearson')"
            ]
          },
          "metadata": {},
          "execution_count": 43
        },
        {
          "output_type": "display_data",
          "data": {
            "text/plain": [
              "<Figure size 2000x800 with 2 Axes>"
            ],
            "image/png": "[encoded data removed]"
          },
          "metadata": {}
        }
      ]
    },
    {
      "cell_type": "code",
      "source": [
        "#fazendo o preprocessamento dos dados\n",
        "# padronizar os dados pois os dados estão em escala diferentes, o método escolhido será MinMaxScaler, pois os dados não obedecem uma distribuição normal\n",
        "\n",
        "#normalização das colunas numéricas\n",
        "pd_perfil_compra_n = pd_perfil_compra.copy()\n",
        "\n",
        "pd_perfil_compra_n = pd_perfil_compra_n.drop(columns=[\"customer_id\"])\n",
        "\n",
        "minmax = MinMaxScaler()\n",
        "#transformação de cada coluna e atribuição ao novo df codificado\n",
        "for column in pd_perfil_compra_n:\n",
        "  pd_perfil_compra_n[column] = minmax.fit_transform(pd_perfil_compra_n[[column]])\n",
        "\n",
        "pd_perfil_compra_n"
      ],
      "metadata": {
        "id": "M4GgOBm2CUow",
        "outputId": "1c440da8-e090-4a19-8fa5-a0d0fb3189b2",
        "colab": {
          "base_uri": "https://localhost:8080/",
          "height": 423
        }
      },
      "execution_count": 54,
      "outputs": [
        {
          "output_type": "execute_result",
          "data": {
            "text/plain": [
              "        is_target_dummy  tempo_medio_entre_compras  recencia  distinct_orders  \\\n",
              "0                   1.0                   0.097458  0.118644         0.025641   \n",
              "1                   0.0                   0.037797  0.000000         0.141026   \n",
              "2                   1.0                   0.118644  0.796610         0.006410   \n",
              "3                   1.0                   0.194915  0.474576         0.012821   \n",
              "4                   1.0                   0.627119  0.254237         0.006410   \n",
              "...                 ...                        ...       ...              ...   \n",
              "806461              1.0                   0.135593  0.559322         0.012821   \n",
              "806462              0.0                   0.000000  0.372881         0.000000   \n",
              "806463              1.0                   0.067797  0.779661         0.006410   \n",
              "806464              0.0                   0.000000  0.813559         0.000000   \n",
              "806465              0.0                   0.000000  0.661017         0.000000   \n",
              "\n",
              "        distinct_merchants  order_total_amount  ticket_medio  \n",
              "0                 0.088235            0.003799      0.001519  \n",
              "1                 0.205882            0.007207      0.000627  \n",
              "2                 0.029412            0.000616      0.000616  \n",
              "3                 0.058824            0.000341      0.000227  \n",
              "4                 0.029412            0.001244      0.001244  \n",
              "...                    ...                 ...           ...  \n",
              "806461            0.058824            0.000954      0.000636  \n",
              "806462            0.000000            0.000353      0.000705  \n",
              "806463            0.029412            0.000686      0.000686  \n",
              "806464            0.000000            0.000170      0.000339  \n",
              "806465            0.000000            0.000396      0.000792  \n",
              "\n",
              "[806466 rows x 7 columns]"
            ],
            "text/html": [
              "\n",
              "  <div id=\"df-ed263771-767a-4d1a-a982-348ed35b7689\" class=\"colab-df-container\">\n",
              "    <div>\n",
              "<style scoped>\n",
              "    .dataframe tbody tr th:only-of-type {\n",
              "        vertical-align: middle;\n",
              "    }\n",
              "\n",
              "    .dataframe tbody tr th {\n",
              "        vertical-align: top;\n",
              "    }\n",
              "\n",
              "    .dataframe thead th {\n",
              "        text-align: right;\n",
              "    }\n",
              "</style>\n",
              "<table border=\"1\" class=\"dataframe\">\n",
              "  <thead>\n",
              "    <tr style=\"text-align: right;\">\n",
              "      <th></th>\n",
              "      <th>is_target_dummy</th>\n",
              "      <th>tempo_medio_entre_compras</th>\n",
              "      <th>recencia</th>\n",
              "      <th>distinct_orders</th>\n",
              "      <th>distinct_merchants</th>\n",
              "      <th>order_total_amount</th>\n",
              "      <th>ticket_medio</th>\n",
              "    </tr>\n",
              "  </thead>\n",
              "  <tbody>\n",
              "    <tr>\n",
              "      <th>0</th>\n",
              "      <td>1.0</td>\n",
              "      <td>0.097458</td>\n",
              "      <td>0.118644</td>\n",
              "      <td>0.025641</td>\n",
              "      <td>0.088235</td>\n",
              "      <td>0.003799</td>\n",
              "      <td>0.001519</td>\n",
              "    </tr>\n",
              "    <tr>\n",
              "      <th>1</th>\n",
              "      <td>0.0</td>\n",
              "      <td>0.037797</td>\n",
              "      <td>0.000000</td>\n",
              "      <td>0.141026</td>\n",
              "      <td>0.205882</td>\n",
              "      <td>0.007207</td>\n",
              "      <td>0.000627</td>\n",
              "    </tr>\n",
              "    <tr>\n",
              "      <th>2</th>\n",
              "      <td>1.0</td>\n",
              "      <td>0.118644</td>\n",
              "      <td>0.796610</td>\n",
              "      <td>0.006410</td>\n",
              "      <td>0.029412</td>\n",
              "      <td>0.000616</td>\n",
              "      <td>0.000616</td>\n",
              "    </tr>\n",
              "    <tr>\n",
              "      <th>3</th>\n",
              "      <td>1.0</td>\n",
              "      <td>0.194915</td>\n",
              "      <td>0.474576</td>\n",
              "      <td>0.012821</td>\n",
              "      <td>0.058824</td>\n",
              "      <td>0.000341</td>\n",
              "      <td>0.000227</td>\n",
              "    </tr>\n",
              "    <tr>\n",
              "      <th>4</th>\n",
              "      <td>1.0</td>\n",
              "      <td>0.627119</td>\n",
              "      <td>0.254237</td>\n",
              "      <td>0.006410</td>\n",
              "      <td>0.029412</td>\n",
              "      <td>0.001244</td>\n",
              "      <td>0.001244</td>\n",
              "    </tr>\n",
              "    <tr>\n",
              "      <th>...</th>\n",
              "      <td>...</td>\n",
              "      <td>...</td>\n",
              "      <td>...</td>\n",
              "      <td>...</td>\n",
              "      <td>...</td>\n",
              "      <td>...</td>\n",
              "      <td>...</td>\n",
              "    </tr>\n",
              "    <tr>\n",
              "      <th>806461</th>\n",
              "      <td>1.0</td>\n",
              "      <td>0.135593</td>\n",
              "      <td>0.559322</td>\n",
              "      <td>0.012821</td>\n",
              "      <td>0.058824</td>\n",
              "      <td>0.000954</td>\n",
              "      <td>0.000636</td>\n",
              "    </tr>\n",
              "    <tr>\n",
              "      <th>806462</th>\n",
              "      <td>0.0</td>\n",
              "      <td>0.000000</td>\n",
              "      <td>0.372881</td>\n",
              "      <td>0.000000</td>\n",
              "      <td>0.000000</td>\n",
              "      <td>0.000353</td>\n",
              "      <td>0.000705</td>\n",
              "    </tr>\n",
              "    <tr>\n",
              "      <th>806463</th>\n",
              "      <td>1.0</td>\n",
              "      <td>0.067797</td>\n",
              "      <td>0.779661</td>\n",
              "      <td>0.006410</td>\n",
              "      <td>0.029412</td>\n",
              "      <td>0.000686</td>\n",
              "      <td>0.000686</td>\n",
              "    </tr>\n",
              "    <tr>\n",
              "      <th>806464</th>\n",
              "      <td>0.0</td>\n",
              "      <td>0.000000</td>\n",
              "      <td>0.813559</td>\n",
              "      <td>0.000000</td>\n",
              "      <td>0.000000</td>\n",
              "      <td>0.000170</td>\n",
              "      <td>0.000339</td>\n",
              "    </tr>\n",
              "    <tr>\n",
              "      <th>806465</th>\n",
              "      <td>0.0</td>\n",
              "      <td>0.000000</td>\n",
              "      <td>0.661017</td>\n",
              "      <td>0.000000</td>\n",
              "      <td>0.000000</td>\n",
              "      <td>0.000396</td>\n",
              "      <td>0.000792</td>\n",
              "    </tr>\n",
              "  </tbody>\n",
              "</table>\n",
              "<p>806466 rows × 7 columns</p>\n",
              "</div>\n",
              "    <div class=\"colab-df-buttons\">\n",
              "\n",
              "  <div class=\"colab-df-container\">\n",
              "    <button class=\"colab-df-convert\" onclick=\"convertToInteractive('df-ed263771-767a-4d1a-a982-348ed35b7689')\"\n",
              "            title=\"Convert this dataframe to an interactive table.\"\n",
              "            style=\"display:none;\">\n",
              "\n",
              "  <svg xmlns=\"http://www.w3.org/2000/svg\" height=\"24px\" viewBox=\"0 -960 960 960\">\n",
              "    <path d=\"M120-120v-720h720v720H120Zm60-500h600v-160H180v160Zm220 220h160v-160H400v160Zm0 220h160v-160H400v160ZM180-400h160v-160H180v160Zm440 0h160v-160H620v160ZM180-180h160v-160H180v160Zm440 0h160v-160H620v160Z\"/>\n",
              "  </svg>\n",
              "    </button>\n",
              "\n",
              "  <style>\n",
              "    .colab-df-container {\n",
              "      display:flex;\n",
              "      gap: 12px;\n",
              "    }\n",
              "\n",
              "    .colab-df-convert {\n",
              "      background-color: #E8F0FE;\n",
              "      border: none;\n",
              "      border-radius: 50%;\n",
              "      cursor: pointer;\n",
              "      display: none;\n",
              "      fill: #1967D2;\n",
              "      height: 32px;\n",
              "      padding: 0 0 0 0;\n",
              "      width: 32px;\n",
              "    }\n",
              "\n",
              "    .colab-df-convert:hover {\n",
              "      background-color: #E2EBFA;\n",
              "      box-shadow: 0px 1px 2px rgba(60, 64, 67, 0.3), 0px 1px 3px 1px rgba(60, 64, 67, 0.15);\n",
              "      fill: #174EA6;\n",
              "    }\n",
              "\n",
              "    .colab-df-buttons div {\n",
              "      margin-bottom: 4px;\n",
              "    }\n",
              "\n",
              "    [theme=dark] .colab-df-convert {\n",
              "      background-color: #3B4455;\n",
              "      fill: #D2E3FC;\n",
              "    }\n",
              "\n",
              "    [theme=dark] .colab-df-convert:hover {\n",
              "      background-color: #434B5C;\n",
              "      box-shadow: 0px 1px 3px 1px rgba(0, 0, 0, 0.15);\n",
              "      filter: drop-shadow(0px 1px 2px rgba(0, 0, 0, 0.3));\n",
              "      fill: #FFFFFF;\n",
              "    }\n",
              "  </style>\n",
              "\n",
              "    <script>\n",
              "      const buttonEl =\n",
              "        document.querySelector('#df-ed263771-767a-4d1a-a982-348ed35b7689 button.colab-df-convert');\n",
              "      buttonEl.style.display =\n",
              "        google.colab.kernel.accessAllowed ? 'block' : 'none';\n",
              "\n",
              "      async function convertToInteractive(key) {\n",
              "        const element = document.querySelector('#df-ed263771-767a-4d1a-a982-348ed35b7689');\n",
              "        const dataTable =\n",
              "          await google.colab.kernel.invokeFunction('convertToInteractive',\n",
              "                                                    [key], {});\n",
              "        if (!dataTable) return;\n",
              "\n",
              "        const docLinkHtml = 'Like what you see? Visit the ' +\n",
              "          '<a target=\"_blank\" href=https://colab.research.google.com/notebooks/data_table.ipynb>data table notebook</a>'\n",
              "          + ' to learn more about interactive tables.';\n",
              "        element.innerHTML = '';\n",
              "        dataTable['output_type'] = 'display_data';\n",
              "        await google.colab.output.renderOutput(dataTable, element);\n",
              "        const docLink = document.createElement('div');\n",
              "        docLink.innerHTML = docLinkHtml;\n",
              "        element.appendChild(docLink);\n",
              "      }\n",
              "    </script>\n",
              "  </div>\n",
              "\n",
              "\n",
              "    <div id=\"df-bd4f2e89-b328-49a3-8bba-19f53dcf9d18\">\n",
              "      <button class=\"colab-df-quickchart\" onclick=\"quickchart('df-bd4f2e89-b328-49a3-8bba-19f53dcf9d18')\"\n",
              "                title=\"Suggest charts\"\n",
              "                style=\"display:none;\">\n",
              "\n",
              "<svg xmlns=\"http://www.w3.org/2000/svg\" height=\"24px\"viewBox=\"0 0 24 24\"\n",
              "     width=\"24px\">\n",
              "    <g>\n",
              "        <path d=\"M19 3H5c-1.1 0-2 .9-2 2v14c0 1.1.9 2 2 2h14c1.1 0 2-.9 2-2V5c0-1.1-.9-2-2-2zM9 17H7v-7h2v7zm4 0h-2V7h2v10zm4 0h-2v-4h2v4z\"/>\n",
              "    </g>\n",
              "</svg>\n",
              "      </button>\n",
              "\n",
              "<style>\n",
              "  .colab-df-quickchart {\n",
              "      --bg-color: #E8F0FE;\n",
              "      --fill-color: #1967D2;\n",
              "      --hover-bg-color: #E2EBFA;\n",
              "      --hover-fill-color: #174EA6;\n",
              "      --disabled-fill-color: #AAA;\n",
              "      --disabled-bg-color: #DDD;\n",
              "  }\n",
              "\n",
              "  [theme=dark] .colab-df-quickchart {\n",
              "      --bg-color: #3B4455;\n",
              "      --fill-color: #D2E3FC;\n",
              "      --hover-bg-color: #434B5C;\n",
              "      --hover-fill-color: #FFFFFF;\n",
              "      --disabled-bg-color: #3B4455;\n",
              "      --disabled-fill-color: #666;\n",
              "  }\n",
              "\n",
              "  .colab-df-quickchart {\n",
              "    background-color: var(--bg-color);\n",
              "    border: none;\n",
              "    border-radius: 50%;\n",
              "    cursor: pointer;\n",
              "    display: none;\n",
              "    fill: var(--fill-color);\n",
              "    height: 32px;\n",
              "    padding: 0;\n",
              "    width: 32px;\n",
              "  }\n",
              "\n",
              "  .colab-df-quickchart:hover {\n",
              "    background-color: var(--hover-bg-color);\n",
              "    box-shadow: 0 1px 2px rgba(60, 64, 67, 0.3), 0 1px 3px 1px rgba(60, 64, 67, 0.15);\n",
              "    fill: var(--button-hover-fill-color);\n",
              "  }\n",
              "\n",
              "  .colab-df-quickchart-complete:disabled,\n",
              "  .colab-df-quickchart-complete:disabled:hover {\n",
              "    background-color: var(--disabled-bg-color);\n",
              "    fill: var(--disabled-fill-color);\n",
              "    box-shadow: none;\n",
              "  }\n",
              "\n",
              "  .colab-df-spinner {\n",
              "    border: 2px solid var(--fill-color);\n",
              "    border-color: transparent;\n",
              "    border-bottom-color: var(--fill-color);\n",
              "    animation:\n",
              "      spin 1s steps(1) infinite;\n",
              "  }\n",
              "\n",
              "  @keyframes spin {\n",
              "    0% {\n",
              "      border-color: transparent;\n",
              "      border-bottom-color: var(--fill-color);\n",
              "      border-left-color: var(--fill-color);\n",
              "    }\n",
              "    20% {\n",
              "      border-color: transparent;\n",
              "      border-left-color: var(--fill-color);\n",
              "      border-top-color: var(--fill-color);\n",
              "    }\n",
              "    30% {\n",
              "      border-color: transparent;\n",
              "      border-left-color: var(--fill-color);\n",
              "      border-top-color: var(--fill-color);\n",
              "      border-right-color: var(--fill-color);\n",
              "    }\n",
              "    40% {\n",
              "      border-color: transparent;\n",
              "      border-right-color: var(--fill-color);\n",
              "      border-top-color: var(--fill-color);\n",
              "    }\n",
              "    60% {\n",
              "      border-color: transparent;\n",
              "      border-right-color: var(--fill-color);\n",
              "    }\n",
              "    80% {\n",
              "      border-color: transparent;\n",
              "      border-right-color: var(--fill-color);\n",
              "      border-bottom-color: var(--fill-color);\n",
              "    }\n",
              "    90% {\n",
              "      border-color: transparent;\n",
              "      border-bottom-color: var(--fill-color);\n",
              "    }\n",
              "  }\n",
              "</style>\n",
              "\n",
              "      <script>\n",
              "        async function quickchart(key) {\n",
              "          const quickchartButtonEl =\n",
              "            document.querySelector('#' + key + ' button');\n",
              "          quickchartButtonEl.disabled = true;  // To prevent multiple clicks.\n",
              "          quickchartButtonEl.classList.add('colab-df-spinner');\n",
              "          try {\n",
              "            const charts = await google.colab.kernel.invokeFunction(\n",
              "                'suggestCharts', [key], {});\n",
              "          } catch (error) {\n",
              "            console.error('Error during call to suggestCharts:', error);\n",
              "          }\n",
              "          quickchartButtonEl.classList.remove('colab-df-spinner');\n",
              "          quickchartButtonEl.classList.add('colab-df-quickchart-complete');\n",
              "        }\n",
              "        (() => {\n",
              "          let quickchartButtonEl =\n",
              "            document.querySelector('#df-bd4f2e89-b328-49a3-8bba-19f53dcf9d18 button');\n",
              "          quickchartButtonEl.style.display =\n",
              "            google.colab.kernel.accessAllowed ? 'block' : 'none';\n",
              "        })();\n",
              "      </script>\n",
              "    </div>\n",
              "\n",
              "  <div id=\"id_4a2e4b33-5f8f-454a-831d-bd1e4b449823\">\n",
              "    <style>\n",
              "      .colab-df-generate {\n",
              "        background-color: #E8F0FE;\n",
              "        border: none;\n",
              "        border-radius: 50%;\n",
              "        cursor: pointer;\n",
              "        display: none;\n",
              "        fill: #1967D2;\n",
              "        height: 32px;\n",
              "        padding: 0 0 0 0;\n",
              "        width: 32px;\n",
              "      }\n",
              "\n",
              "      .colab-df-generate:hover {\n",
              "        background-color: #E2EBFA;\n",
              "        box-shadow: 0px 1px 2px rgba(60, 64, 67, 0.3), 0px 1px 3px 1px rgba(60, 64, 67, 0.15);\n",
              "        fill: #174EA6;\n",
              "      }\n",
              "\n",
              "      [theme=dark] .colab-df-generate {\n",
              "        background-color: #3B4455;\n",
              "        fill: #D2E3FC;\n",
              "      }\n",
              "\n",
              "      [theme=dark] .colab-df-generate:hover {\n",
              "        background-color: #434B5C;\n",
              "        box-shadow: 0px 1px 3px 1px rgba(0, 0, 0, 0.15);\n",
              "        filter: drop-shadow(0px 1px 2px rgba(0, 0, 0, 0.3));\n",
              "        fill: #FFFFFF;\n",
              "      }\n",
              "    </style>\n",
              "    <button class=\"colab-df-generate\" onclick=\"generateWithVariable('pd_perfil_compra_n')\"\n",
              "            title=\"Generate code using this dataframe.\"\n",
              "            style=\"display:none;\">\n",
              "\n",
              "  <svg xmlns=\"http://www.w3.org/2000/svg\" height=\"24px\"viewBox=\"0 0 24 24\"\n",
              "       width=\"24px\">\n",
              "    <path d=\"M7,19H8.4L18.45,9,17,7.55,7,17.6ZM5,21V16.75L18.45,3.32a2,2,0,0,1,2.83,0l1.4,1.43a1.91,1.91,0,0,1,.58,1.4,1.91,1.91,0,0,1-.58,1.4L9.25,21ZM18.45,9,17,7.55Zm-12,3A5.31,5.31,0,0,0,4.9,8.1,5.31,5.31,0,0,0,1,6.5,5.31,5.31,0,0,0,4.9,4.9,5.31,5.31,0,0,0,6.5,1,5.31,5.31,0,0,0,8.1,4.9,5.31,5.31,0,0,0,12,6.5,5.46,5.46,0,0,0,6.5,12Z\"/>\n",
              "  </svg>\n",
              "    </button>\n",
              "    <script>\n",
              "      (() => {\n",
              "      const buttonEl =\n",
              "        document.querySelector('#id_4a2e4b33-5f8f-454a-831d-bd1e4b449823 button.colab-df-generate');\n",
              "      buttonEl.style.display =\n",
              "        google.colab.kernel.accessAllowed ? 'block' : 'none';\n",
              "\n",
              "      buttonEl.onclick = () => {\n",
              "        google.colab.notebook.generateWithVariable('pd_perfil_compra_n');\n",
              "      }\n",
              "      })();\n",
              "    </script>\n",
              "  </div>\n",
              "\n",
              "    </div>\n",
              "  </div>\n"
            ],
            "application/vnd.google.colaboratory.intrinsic+json": {
              "type": "dataframe",
              "variable_name": "pd_perfil_compra_n"
            }
          },
          "metadata": {},
          "execution_count": 54
        }
      ]
    },
    {
      "cell_type": "code",
      "source": [
        "# elbow para ter insumos sobre a quantidade ideal de grupos\n",
        "inertias = []\n",
        "K = range(1,10)\n",
        "for k in K:\n",
        "    kmeanModel = KMeans(n_clusters=k, max_iter=300, random_state=13).fit(pd_perfil_compra_n)\n",
        "    inertias.append(kmeanModel.inertia_)\n",
        "\n",
        "plt.figure(figsize=(16,8))\n",
        "plt.plot(K, inertias, 'bx-')\n",
        "plt.xlabel('k')\n",
        "plt.ylabel('Inertias')\n",
        "plt.title('The Elbow Method showing the optimal k')\n",
        "plt.show()"
      ],
      "metadata": {
        "id": "nJnmfX_gFFWd",
        "outputId": "9057c260-8644-473b-a77c-f6cf121598c5",
        "colab": {
          "base_uri": "https://localhost:8080/",
          "height": 687
        }
      },
      "execution_count": 57,
      "outputs": [
        {
          "output_type": "display_data",
          "data": {
            "text/plain": [
              "<Figure size 1600x800 with 1 Axes>"
            ],
            "image/png": "[encoded data removed]"
          },
          "metadata": {}
        }
      ]
    },
    {
      "cell_type": "code",
      "source": [
        "model = KMeans(n_clusters=3).fit(pd_perfil_compra_n)\n",
        "predict = model.predict(pd_perfil_compra_n)\n",
        "pd_perfil_compra[\"Clusters\"] = predict\n",
        "pd_perfil_compra[\"Clusters\"].value_counts()\n"
      ],
      "metadata": {
        "id": "RIHYSEneFqrQ",
        "outputId": "4b5db9d1-a5c8-4d1e-ac7d-5f29b8b97201",
        "colab": {
          "base_uri": "https://localhost:8080/",
          "height": 209
        }
      },
      "execution_count": 58,
      "outputs": [
        {
          "output_type": "execute_result",
          "data": {
            "text/plain": [
              "Clusters\n",
              "0    360542\n",
              "2    261659\n",
              "1    184265\n",
              "Name: count, dtype: int64"
            ],
            "text/html": [
              "<div>\n",
              "<style scoped>\n",
              "    .dataframe tbody tr th:only-of-type {\n",
              "        vertical-align: middle;\n",
              "    }\n",
              "\n",
              "    .dataframe tbody tr th {\n",
              "        vertical-align: top;\n",
              "    }\n",
              "\n",
              "    .dataframe thead th {\n",
              "        text-align: right;\n",
              "    }\n",
              "</style>\n",
              "<table border=\"1\" class=\"dataframe\">\n",
              "  <thead>\n",
              "    <tr style=\"text-align: right;\">\n",
              "      <th></th>\n",
              "      <th>count</th>\n",
              "    </tr>\n",
              "    <tr>\n",
              "      <th>Clusters</th>\n",
              "      <th></th>\n",
              "    </tr>\n",
              "  </thead>\n",
              "  <tbody>\n",
              "    <tr>\n",
              "      <th>0</th>\n",
              "      <td>360542</td>\n",
              "    </tr>\n",
              "    <tr>\n",
              "      <th>2</th>\n",
              "      <td>261659</td>\n",
              "    </tr>\n",
              "    <tr>\n",
              "      <th>1</th>\n",
              "      <td>184265</td>\n",
              "    </tr>\n",
              "  </tbody>\n",
              "</table>\n",
              "</div><br><label><b>dtype:</b> int64</label>"
            ]
          },
          "metadata": {},
          "execution_count": 58
        }
      ]
    },
    {
      "cell_type": "code",
      "source": [
        "pd_perfil_compra.groupby(\"Clusters\")[[\"is_target_dummy\", \"tempo_medio_entre_compras\", \"recencia\", \"distinct_orders\", \"distinct_merchants\", \"order_total_amount\", \"ticket_medio\"]].mean()\n"
      ],
      "metadata": {
        "id": "oITDoaf3GESS",
        "outputId": "78af2e08-e5c1-4c30-d543-24144c267b1e",
        "colab": {
          "base_uri": "https://localhost:8080/",
          "height": 175
        }
      },
      "execution_count": 61,
      "outputs": [
        {
          "output_type": "execute_result",
          "data": {
            "text/plain": [
              "          is_target_dummy  tempo_medio_entre_compras   recencia  \\\n",
              "Clusters                                                          \n",
              "0                     0.0                   5.742908  23.771145   \n",
              "1                     1.0                   2.272751  40.101153   \n",
              "2                     1.0                  10.245744   9.699292   \n",
              "\n",
              "          distinct_orders  distinct_merchants  order_total_amount  \\\n",
              "Clusters                                                            \n",
              "0                2.803385            2.009530          134.331655   \n",
              "1                1.618045            1.408515           75.528269   \n",
              "2                4.274755            2.789210          205.659923   \n",
              "\n",
              "          ticket_medio  \n",
              "Clusters                \n",
              "0            48.003125  \n",
              "1            47.251162  \n",
              "2            48.246368  "
            ],
            "text/html": [
              "\n",
              "  <div id=\"df-eb19bdd5-4ba1-495f-ba9a-90c6a369c311\" class=\"colab-df-container\">\n",
              "    <div>\n",
              "<style scoped>\n",
              "    .dataframe tbody tr th:only-of-type {\n",
              "        vertical-align: middle;\n",
              "    }\n",
              "\n",
              "    .dataframe tbody tr th {\n",
              "        vertical-align: top;\n",
              "    }\n",
              "\n",
              "    .dataframe thead th {\n",
              "        text-align: right;\n",
              "    }\n",
              "</style>\n",
              "<table border=\"1\" class=\"dataframe\">\n",
              "  <thead>\n",
              "    <tr style=\"text-align: right;\">\n",
              "      <th></th>\n",
              "      <th>is_target_dummy</th>\n",
              "      <th>tempo_medio_entre_compras</th>\n",
              "      <th>recencia</th>\n",
              "      <th>distinct_orders</th>\n",
              "      <th>distinct_merchants</th>\n",
              "      <th>order_total_amount</th>\n",
              "      <th>ticket_medio</th>\n",
              "    </tr>\n",
              "    <tr>\n",
              "      <th>Clusters</th>\n",
              "      <th></th>\n",
              "      <th></th>\n",
              "      <th></th>\n",
              "      <th></th>\n",
              "      <th></th>\n",
              "      <th></th>\n",
              "      <th></th>\n",
              "    </tr>\n",
              "  </thead>\n",
              "  <tbody>\n",
              "    <tr>\n",
              "      <th>0</th>\n",
              "      <td>0.0</td>\n",
              "      <td>5.742908</td>\n",
              "      <td>23.771145</td>\n",
              "      <td>2.803385</td>\n",
              "      <td>2.009530</td>\n",
              "      <td>134.331655</td>\n",
              "      <td>48.003125</td>\n",
              "    </tr>\n",
              "    <tr>\n",
              "      <th>1</th>\n",
              "      <td>1.0</td>\n",
              "      <td>2.272751</td>\n",
              "      <td>40.101153</td>\n",
              "      <td>1.618045</td>\n",
              "      <td>1.408515</td>\n",
              "      <td>75.528269</td>\n",
              "      <td>47.251162</td>\n",
              "    </tr>\n",
              "    <tr>\n",
              "      <th>2</th>\n",
              "      <td>1.0</td>\n",
              "      <td>10.245744</td>\n",
              "      <td>9.699292</td>\n",
              "      <td>4.274755</td>\n",
              "      <td>2.789210</td>\n",
              "      <td>205.659923</td>\n",
              "      <td>48.246368</td>\n",
              "    </tr>\n",
              "  </tbody>\n",
              "</table>\n",
              "</div>\n",
              "    <div class=\"colab-df-buttons\">\n",
              "\n",
              "  <div class=\"colab-df-container\">\n",
              "    <button class=\"colab-df-convert\" onclick=\"convertToInteractive('df-eb19bdd5-4ba1-495f-ba9a-90c6a369c311')\"\n",
              "            title=\"Convert this dataframe to an interactive table.\"\n",
              "            style=\"display:none;\">\n",
              "\n",
              "  <svg xmlns=\"http://www.w3.org/2000/svg\" height=\"24px\" viewBox=\"0 -960 960 960\">\n",
              "    <path d=\"M120-120v-720h720v720H120Zm60-500h600v-160H180v160Zm220 220h160v-160H400v160Zm0 220h160v-160H400v160ZM180-400h160v-160H180v160Zm440 0h160v-160H620v160ZM180-180h160v-160H180v160Zm440 0h160v-160H620v160Z\"/>\n",
              "  </svg>\n",
              "    </button>\n",
              "\n",
              "  <style>\n",
              "    .colab-df-container {\n",
              "      display:flex;\n",
              "      gap: 12px;\n",
              "    }\n",
              "\n",
              "    .colab-df-convert {\n",
              "      background-color: #E8F0FE;\n",
              "      border: none;\n",
              "      border-radius: 50%;\n",
              "      cursor: pointer;\n",
              "      display: none;\n",
              "      fill: #1967D2;\n",
              "      height: 32px;\n",
              "      padding: 0 0 0 0;\n",
              "      width: 32px;\n",
              "    }\n",
              "\n",
              "    .colab-df-convert:hover {\n",
              "      background-color: #E2EBFA;\n",
              "      box-shadow: 0px 1px 2px rgba(60, 64, 67, 0.3), 0px 1px 3px 1px rgba(60, 64, 67, 0.15);\n",
              "      fill: #174EA6;\n",
              "    }\n",
              "\n",
              "    .colab-df-buttons div {\n",
              "      margin-bottom: 4px;\n",
              "    }\n",
              "\n",
              "    [theme=dark] .colab-df-convert {\n",
              "      background-color: #3B4455;\n",
              "      fill: #D2E3FC;\n",
              "    }\n",
              "\n",
              "    [theme=dark] .colab-df-convert:hover {\n",
              "      background-color: #434B5C;\n",
              "      box-shadow: 0px 1px 3px 1px rgba(0, 0, 0, 0.15);\n",
              "      filter: drop-shadow(0px 1px 2px rgba(0, 0, 0, 0.3));\n",
              "      fill: #FFFFFF;\n",
              "    }\n",
              "  </style>\n",
              "\n",
              "    <script>\n",
              "      const buttonEl =\n",
              "        document.querySelector('#df-eb19bdd5-4ba1-495f-ba9a-90c6a369c311 button.colab-df-convert');\n",
              "      buttonEl.style.display =\n",
              "        google.colab.kernel.accessAllowed ? 'block' : 'none';\n",
              "\n",
              "      async function convertToInteractive(key) {\n",
              "        const element = document.querySelector('#df-eb19bdd5-4ba1-495f-ba9a-90c6a369c311');\n",
              "        const dataTable =\n",
              "          await google.colab.kernel.invokeFunction('convertToInteractive',\n",
              "                                                    [key], {});\n",
              "        if (!dataTable) return;\n",
              "\n",
              "        const docLinkHtml = 'Like what you see? Visit the ' +\n",
              "          '<a target=\"_blank\" href=https://colab.research.google.com/notebooks/data_table.ipynb>data table notebook</a>'\n",
              "          + ' to learn more about interactive tables.';\n",
              "        element.innerHTML = '';\n",
              "        dataTable['output_type'] = 'display_data';\n",
              "        await google.colab.output.renderOutput(dataTable, element);\n",
              "        const docLink = document.createElement('div');\n",
              "        docLink.innerHTML = docLinkHtml;\n",
              "        element.appendChild(docLink);\n",
              "      }\n",
              "    </script>\n",
              "  </div>\n",
              "\n",
              "\n",
              "    <div id=\"df-201cecbc-fe52-4490-a94a-7b15ffd8aa1e\">\n",
              "      <button class=\"colab-df-quickchart\" onclick=\"quickchart('df-201cecbc-fe52-4490-a94a-7b15ffd8aa1e')\"\n",
              "                title=\"Suggest charts\"\n",
              "                style=\"display:none;\">\n",
              "\n",
              "<svg xmlns=\"http://www.w3.org/2000/svg\" height=\"24px\"viewBox=\"0 0 24 24\"\n",
              "     width=\"24px\">\n",
              "    <g>\n",
              "        <path d=\"M19 3H5c-1.1 0-2 .9-2 2v14c0 1.1.9 2 2 2h14c1.1 0 2-.9 2-2V5c0-1.1-.9-2-2-2zM9 17H7v-7h2v7zm4 0h-2V7h2v10zm4 0h-2v-4h2v4z\"/>\n",
              "    </g>\n",
              "</svg>\n",
              "      </button>\n",
              "\n",
              "<style>\n",
              "  .colab-df-quickchart {\n",
              "      --bg-color: #E8F0FE;\n",
              "      --fill-color: #1967D2;\n",
              "      --hover-bg-color: #E2EBFA;\n",
              "      --hover-fill-color: #174EA6;\n",
              "      --disabled-fill-color: #AAA;\n",
              "      --disabled-bg-color: #DDD;\n",
              "  }\n",
              "\n",
              "  [theme=dark] .colab-df-quickchart {\n",
              "      --bg-color: #3B4455;\n",
              "      --fill-color: #D2E3FC;\n",
              "      --hover-bg-color: #434B5C;\n",
              "      --hover-fill-color: #FFFFFF;\n",
              "      --disabled-bg-color: #3B4455;\n",
              "      --disabled-fill-color: #666;\n",
              "  }\n",
              "\n",
              "  .colab-df-quickchart {\n",
              "    background-color: var(--bg-color);\n",
              "    border: none;\n",
              "    border-radius: 50%;\n",
              "    cursor: pointer;\n",
              "    display: none;\n",
              "    fill: var(--fill-color);\n",
              "    height: 32px;\n",
              "    padding: 0;\n",
              "    width: 32px;\n",
              "  }\n",
              "\n",
              "  .colab-df-quickchart:hover {\n",
              "    background-color: var(--hover-bg-color);\n",
              "    box-shadow: 0 1px 2px rgba(60, 64, 67, 0.3), 0 1px 3px 1px rgba(60, 64, 67, 0.15);\n",
              "    fill: var(--button-hover-fill-color);\n",
              "  }\n",
              "\n",
              "  .colab-df-quickchart-complete:disabled,\n",
              "  .colab-df-quickchart-complete:disabled:hover {\n",
              "    background-color: var(--disabled-bg-color);\n",
              "    fill: var(--disabled-fill-color);\n",
              "    box-shadow: none;\n",
              "  }\n",
              "\n",
              "  .colab-df-spinner {\n",
              "    border: 2px solid var(--fill-color);\n",
              "    border-color: transparent;\n",
              "    border-bottom-color: var(--fill-color);\n",
              "    animation:\n",
              "      spin 1s steps(1) infinite;\n",
              "  }\n",
              "\n",
              "  @keyframes spin {\n",
              "    0% {\n",
              "      border-color: transparent;\n",
              "      border-bottom-color: var(--fill-color);\n",
              "      border-left-color: var(--fill-color);\n",
              "    }\n",
              "    20% {\n",
              "      border-color: transparent;\n",
              "      border-left-color: var(--fill-color);\n",
              "      border-top-color: var(--fill-color);\n",
              "    }\n",
              "    30% {\n",
              "      border-color: transparent;\n",
              "      border-left-color: var(--fill-color);\n",
              "      border-top-color: var(--fill-color);\n",
              "      border-right-color: var(--fill-color);\n",
              "    }\n",
              "    40% {\n",
              "      border-color: transparent;\n",
              "      border-right-color: var(--fill-color);\n",
              "      border-top-color: var(--fill-color);\n",
              "    }\n",
              "    60% {\n",
              "      border-color: transparent;\n",
              "      border-right-color: var(--fill-color);\n",
              "    }\n",
              "    80% {\n",
              "      border-color: transparent;\n",
              "      border-right-color: var(--fill-color);\n",
              "      border-bottom-color: var(--fill-color);\n",
              "    }\n",
              "    90% {\n",
              "      border-color: transparent;\n",
              "      border-bottom-color: var(--fill-color);\n",
              "    }\n",
              "  }\n",
              "</style>\n",
              "\n",
              "      <script>\n",
              "        async function quickchart(key) {\n",
              "          const quickchartButtonEl =\n",
              "            document.querySelector('#' + key + ' button');\n",
              "          quickchartButtonEl.disabled = true;  // To prevent multiple clicks.\n",
              "          quickchartButtonEl.classList.add('colab-df-spinner');\n",
              "          try {\n",
              "            const charts = await google.colab.kernel.invokeFunction(\n",
              "                'suggestCharts', [key], {});\n",
              "          } catch (error) {\n",
              "            console.error('Error during call to suggestCharts:', error);\n",
              "          }\n",
              "          quickchartButtonEl.classList.remove('colab-df-spinner');\n",
              "          quickchartButtonEl.classList.add('colab-df-quickchart-complete');\n",
              "        }\n",
              "        (() => {\n",
              "          let quickchartButtonEl =\n",
              "            document.querySelector('#df-201cecbc-fe52-4490-a94a-7b15ffd8aa1e button');\n",
              "          quickchartButtonEl.style.display =\n",
              "            google.colab.kernel.accessAllowed ? 'block' : 'none';\n",
              "        })();\n",
              "      </script>\n",
              "    </div>\n",
              "\n",
              "    </div>\n",
              "  </div>\n"
            ],
            "application/vnd.google.colaboratory.intrinsic+json": {
              "type": "dataframe",
              "summary": "{\n  \"name\": \"pd_perfil_compra\",\n  \"rows\": 3,\n  \"fields\": [\n    {\n      \"column\": \"Clusters\",\n      \"properties\": {\n        \"dtype\": \"int32\",\n        \"num_unique_values\": 3,\n        \"samples\": [\n          0,\n          1,\n          2\n        ],\n        \"semantic_type\": \"\",\n        \"description\": \"\"\n      }\n    },\n    {\n      \"column\": \"is_target_dummy\",\n      \"properties\": {\n        \"dtype\": \"number\",\n        \"std\": 0.5773502691896258,\n        \"min\": 0.0,\n        \"max\": 1.0,\n        \"num_unique_values\": 2,\n        \"samples\": [\n          1.0,\n          0.0\n        ],\n        \"semantic_type\": \"\",\n        \"description\": \"\"\n      }\n    },\n    {\n      \"column\": \"tempo_medio_entre_compras\",\n      \"properties\": {\n        \"dtype\": \"number\",\n        \"std\": 3.9976272498573255,\n        \"min\": 2.272750549480368,\n        \"max\": 10.245743658731403,\n        \"num_unique_values\": 3,\n        \"samples\": [\n          5.7429075392048645,\n          2.272750549480368\n        ],\n        \"semantic_type\": \"\",\n        \"description\": \"\"\n      }\n    },\n    {\n      \"column\": \"recencia\",\n      \"properties\": {\n        \"dtype\": \"number\",\n        \"std\": 15.214901683248286,\n        \"min\": 9.699291826384723,\n        \"max\": 40.10115323040187,\n        \"num_unique_values\": 3,\n        \"samples\": [\n          23.77114455458726,\n          40.10115323040187\n        ],\n        \"semantic_type\": \"\",\n        \"description\": \"\"\n      }\n    },\n    {\n      \"column\": \"distinct_orders\",\n      \"properties\": {\n        \"dtype\": \"number\",\n        \"std\": 1.3309186998398692,\n        \"min\": 1.6180446639350934,\n        \"max\": 4.274754546948509,\n        \"num_unique_values\": 3,\n        \"samples\": [\n          2.80338490383922,\n          1.6180446639350934\n        ],\n        \"semantic_type\": \"\",\n        \"description\": \"\"\n      }\n    },\n    {\n      \"column\": \"distinct_merchants\",\n      \"properties\": {\n        \"dtype\": \"number\",\n        \"std\": 0.6922716948508046,\n        \"min\": 1.4085149105907253,\n        \"max\": 2.789210384508081,\n        \"num_unique_values\": 3,\n        \"samples\": [\n          2.0095300963549323,\n          1.4085149105907253\n        ],\n        \"semantic_type\": \"\",\n        \"description\": \"\"\n      }\n    },\n    {\n      \"column\": \"order_total_amount\",\n      \"properties\": {\n        \"dtype\": \"number\",\n        \"std\": 65.16620724446528,\n        \"min\": 75.52826939462187,\n        \"max\": 205.65992337355107,\n        \"num_unique_values\": 3,\n        \"samples\": [\n          134.33165481414093,\n          75.52826939462187\n        ],\n        \"semantic_type\": \"\",\n        \"description\": \"\"\n      }\n    },\n    {\n      \"column\": \"ticket_medio\",\n      \"properties\": {\n        \"dtype\": \"number\",\n        \"std\": 0.5188208660024581,\n        \"min\": 47.25116158793042,\n        \"max\": 48.24636752414402,\n        \"num_unique_values\": 3,\n        \"samples\": [\n          48.00312479544686,\n          47.25116158793042\n        ],\n        \"semantic_type\": \"\",\n        \"description\": \"\"\n      }\n    }\n  ]\n}"
            }
          },
          "metadata": {},
          "execution_count": 61
        }
      ]
    },
    {
      "cell_type": "markdown",
      "source": [
        "\n",
        "\n",
        "---\n",
        "\n",
        "\n",
        "# Teste de Hipótese:"
      ],
      "metadata": {
        "id": "4JzvmeY0_1II"
      }
    },
    {
      "cell_type": "code",
      "source": [
        "#qtd de pedidos por usuário\n",
        "df_media_pedidos = pedidos_final.groupBy(col(\"customer_id\"), col(\"is_target\")).agg(count_distinct(\"order_id\").alias(\"qtd_pedidos_por_usuario\"))\n",
        "\n",
        "df_media_pedidos.groupBy(col(\"is_target\")).agg(avg(col(\"qtd_pedidos_por_usuario\")).alias(\"media_pedidos_por_usuario\")).show()"
      ],
      "metadata": {
        "id": "pBXcTuvM1XqV"
      },
      "execution_count": null,
      "outputs": []
    },
    {
      "cell_type": "markdown",
      "source": [
        "# Usuários target compram mais do que usuários control?\n",
        "Primeiramente vamos validar se os dados possuem uma distribuição normal\n",
        "\n",
        "##Teste de Shapiro Wilk\n",
        "\n",
        "**- H0:** A amostra segue uma distribuição normal\n",
        "\n",
        "**- H1:** A amostra não segue uma distribuição normal\n",
        "- Se _p-value_ < 0.05, rejeita-se a hipótese nula, ou seja, temos evidências suficientes para dizer que a amostra não vem de distribuição normal\n"
      ],
      "metadata": {
        "id": "sdQSklDKO4vd"
      }
    },
    {
      "cell_type": "code",
      "source": [
        "pd_pedidos = df_media_pedidos.toPandas()"
      ],
      "metadata": {
        "id": "96COeDKh_iJc"
      },
      "execution_count": null,
      "outputs": []
    },
    {
      "cell_type": "code",
      "source": [
        "# analisando se os dados obedecem uma distribuição normal\n",
        "statistic, pvalue = shapiro(pd_pedidos[\"qtd_pedidos_por_usuario\"])\n",
        "print(f\"statistic={statistic}, pvalue={pvalue}\")\n",
        "if pvalue < 0.05:\n",
        "    print('Rejeita a hipótese nula')\n",
        "else:\n",
        "    print('Não rejeita a hipótese nula')"
      ],
      "metadata": {
        "id": "nZO5JizhAnS_"
      },
      "execution_count": null,
      "outputs": []
    },
    {
      "cell_type": "markdown",
      "source": [
        "Como os dados não seguem uma distribuição normal, logo, seguiremos por testes não paramétricos\n",
        "\n",
        "## Hipóteses\n",
        "**H0:** quantidade de pedidos do grupo target é igual ao grupo control\n",
        "\n",
        "**H1:** quantidade de pedidos do grupo target é diferente ao grupo control"
      ],
      "metadata": {
        "id": "JpAgQ6kHPPZF"
      }
    },
    {
      "cell_type": "code",
      "source": [
        "target = pd_pedidos[pd_pedidos[\"is_target\"]==\"target\"]\n",
        "control = pd_pedidos[pd_pedidos[\"is_target\"]==\"control\"]\n",
        "\n",
        "statistic, pvalue = mannwhitneyu(target[\"qtd_pedidos_por_usuario\"], control[\"qtd_pedidos_por_usuario\"])\n",
        "print(f\"statistic={statistic}, pvalue={pvalue}\")\n",
        "\n",
        "if pvalue < 0.05:\n",
        "    print('Rejeita a hipótese nula')\n",
        "else:\n",
        "    print('Não rejeita a hipótese nula')\n",
        "\n",
        "#tamanho de efeito\n",
        "\n",
        "print(statistic/(len(target[\"qtd_pedidos_por_usuario\"])*len(control[\"qtd_pedidos_por_usuario\"])))"
      ],
      "metadata": {
        "id": "EePI-heQBTBw"
      },
      "execution_count": null,
      "outputs": []
    },
    {
      "cell_type": "markdown",
      "source": [
        "## Resultado:\n",
        "Rejeitamos a hipótese nula (H₀) e aceitamos a hipótese alternativa, ou seja, há uma diferença significativa entre a quantidade de pedidos dos dois grupos. O tamanho de efeito nos informa a magnitude desta diferença, sendo um índice entre 0 e 1. O tamanho do efeito calculado é 0.55, o que sugere um efeito de tamanho moderado. Isso significa que a diferença na quantidade de pedidos é significativa além de ser relevante.\n",
        "\n",
        "\n",
        "---\n",
        "\n",
        "\n",
        "## Vamos analisar agora se a diferença é para mais ou para menos\n",
        "**H0:** usuários do grupo target tem igual ou menor quatidade de pedidos que o contro control\n",
        "\n",
        "**H1:** usuários do grupo target tem maior quatidade de pedidos que o contro control"
      ],
      "metadata": {
        "id": "IrmoCWJvNpKw"
      }
    },
    {
      "cell_type": "code",
      "source": [
        "\n",
        "target = pd_pedidos[pd_pedidos[\"is_target\"]==\"target\"]\n",
        "control = pd_pedidos[pd_pedidos[\"is_target\"]==\"control\"]\n",
        "\n",
        "statistic, pvalue = mannwhitneyu(target[\"qtd_pedidos_por_usuario\"], control[\"qtd_pedidos_por_usuario\"], alternative='greater')\n",
        "print(f\"statistic={statistic}, pvalue={pvalue}\")\n",
        "\n",
        "if pvalue < 0.05:\n",
        "    print('Rejeita a hipótese nula')\n",
        "else:\n",
        "    print('Não rejeita a hipótese nula')\n",
        "\n",
        "#tamanho de efeito\n",
        "\n",
        "print(statistic/(len(target[\"qtd_pedidos_por_usuario\"])*len(control[\"qtd_pedidos_por_usuario\"])))"
      ],
      "metadata": {
        "id": "JgP2h_QmJxex"
      },
      "execution_count": null,
      "outputs": []
    },
    {
      "cell_type": "markdown",
      "source": [
        "## Resultado do teste de hipótese:\n",
        "Novamente rejeitamos a hipótese nula (H₀) concluindo que o grupo target realizou mais pedidos em relação ao grupo control\n",
        "O tamanho de efeito nos informa a magnitude desta diferença, sendo um índice entre 0 e 1. O tamanho do efeito calculado é 0.55, o que sugere um efeito de tamanho moderado. Isso significa que a diferença no tempo de atendimento é significativa além de ser relevante.\n",
        "\n",
        "\n",
        "\n",
        "---\n",
        "\n",
        "\n"
      ],
      "metadata": {
        "id": "riQ7NLXoM2Kz"
      }
    },
    {
      "cell_type": "code",
      "source": [],
      "metadata": {
        "id": "8LSxJ9Y9P9KB"
      },
      "execution_count": null,
      "outputs": []
    },
    {
      "cell_type": "markdown",
      "source": [
        "- tarquet x control\n",
        "\n",
        "    - qtd de pedidos\n",
        "    - valor total da compra\n",
        "    - ticket médio\n",
        "    - tempo entre compras\n",
        "    - recorrencia\n",
        "    - tem diferença entre usuários ativos ou não?\n",
        "    - expansão geográfica: qtd de estabelecimentos diferentes que compraram\n",
        "    - restaurantes que mais venderam\n",
        "    - região que mais vendeu\n",
        "    - horário das compras\n",
        "    - qtd de produtos adquiridos\n",
        "\n",
        "- ideias para teste ab:\n",
        "\n",
        "    - qtd de usuários que receberam o cupom, para entender conversão, de quem recebeu, quem não comprou;\n",
        "     "
      ],
      "metadata": {
        "id": "rSbOvNnJ1O52"
      }
    }
  ]
}