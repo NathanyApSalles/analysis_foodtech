{
  "nbformat": 4,
  "nbformat_minor": 0,
  "metadata": {
    "colab": {
      "provenance": [],
      "authorship_tag": "ABX9TyPTPtUsZhJowYoFo8hZiA6L",
      "include_colab_link": true
    },
    "kernelspec": {
      "name": "python3",
      "display_name": "Python 3"
    },
    "language_info": {
      "name": "python"
    }
  },
  "cells": [
    {
      "cell_type": "markdown",
      "metadata": {
        "id": "view-in-github",
        "colab_type": "text"
      },
      "source": [
        "<a href=\"https://colab.research.google.com/github/NathanyApSalles/analysis_foodtech/blob/main/Case_Tecnico_DataAnalyst_Ifood.ipynb\" target=\"_parent\"><img src=\"https://colab.research.google.com/assets/colab-badge.svg\" alt=\"Open In Colab\"/></a>"
      ]
    },
    {
      "cell_type": "markdown",
      "source": [
        "# Importação das bases"
      ],
      "metadata": {
        "id": "GDeFN_srdPt8"
      }
    },
    {
      "cell_type": "code",
      "source": [
        "import requests\n",
        "import tarfile\n",
        "import os\n",
        "from pyspark.sql import SparkSession, DataFrame\n",
        "\n",
        "spark = SparkSession.builder.getOrCreate()"
      ],
      "metadata": {
        "id": "O_7IWENanm7y"
      },
      "execution_count": 2,
      "outputs": []
    },
    {
      "cell_type": "code",
      "execution_count": 3,
      "metadata": {
        "id": "Qtb9n4XVcm29"
      },
      "outputs": [],
      "source": [
        "def read_file(url: str, local_path: str, type_file: str) -> DataFrame:\n",
        "  \"\"\"Função para ler arquivo e retornar um Dataframe.\"\"\"\n",
        "  if not os.path.exists(local_path):\n",
        "    response = requests.get(url)\n",
        "    with open(local_path, \"wb\") as f:\n",
        "        f.write(response.content)\n",
        "  if type_file == \"json\":\n",
        "    return spark.read.json(local_path, multiLine=False)\n",
        "  elif type_file == \"csv\":\n",
        "    return spark.read.option(\"header\", \"true\").csv(local_path)\n",
        "  elif type_file == \"tar\":\n",
        "\n",
        "    arquivos_extraidos = \"/tmp/ab_test_ref\"\n",
        "\n",
        "    os.makedirs(arquivos_extraidos, exist_ok=True)\n",
        "\n",
        "    with tarfile.open(local_path, \"r:gz\") as tar:\n",
        "        tar.extractall(path=arquivos_extraidos)\n",
        "\n",
        "    filename = \"\"\n",
        "    for root, dirs, files in os.walk(arquivos_extraidos):\n",
        "        for filename in files:\n",
        "            print(filename) # print para visualizar todos os arquivos exraídos\n",
        "    if \".csv\" in filename: # se houver algum arquivo csv, junte todos os arquivos deste tipo no dataframe\n",
        "      return spark.read.option(\"header\", \"true\").csv(arquivos_extraidos + \"/*.csv\")\n",
        "    else: # se houver algum arquivo json, junte todos os arquivos deste tipo no dataframe\n",
        "      return spark.read.json(arquivos_extraidos + \"/*.json\")\n",
        "      #pode acontecer de ter arquivos de diferentes tipos misturados, mas para este estudo vamos assumir que todos são do mesmo tipo\n"
      ]
    },
    {
      "cell_type": "code",
      "source": [
        "url_pedidos = \"https://data-architect-test-source.s3-sa-east-1.amazonaws.com/order.json.gz\"\n",
        "url_usuarios = \"https://data-architect-test-source.s3-sa-east-1.amazonaws.com/consumer.csv.gz\"\n",
        "url_merchants = \"https://data-architect-test-source.s3-sa-east-1.amazonaws.com/restaurant.csv.gz\"\n",
        "url_test_ab = \"https://data-architect-test-source.s3-sa-east-1.amazonaws.com/ab_test_ref.tar.gz\"\n",
        "\n",
        "local_path_pedidos = \"/tmp/order.json.gz\"\n",
        "local_path_usuarios = \"/tmp/consumer.csv.gz\"\n",
        "local_path_merchants = \"/tmp/restaurant.csv.gz\"\n",
        "local_path_teste_ab = \"/tmp/ab_test_ref.tar.gz\"\n",
        "\n",
        "pedidos = read_file(url_pedidos, local_path_pedidos, \"json\").cache()\n",
        "usuarios = read_file(url_usuarios, local_path_usuarios, \"csv\").cache()\n",
        "merchants = read_file(url_merchants, local_path_merchants, \"csv\").cache()\n",
        "teste_ab = read_file(url_test_ab, local_path_teste_ab, \"tar\").cache()"
      ],
      "metadata": {
        "colab": {
          "base_uri": "https://localhost:8080/"
        },
        "id": "S2EDf_Z_ei-3",
        "outputId": "0ec0d279-3629-44c3-9a34-6e30051f0c06"
      },
      "execution_count": 4,
      "outputs": [
        {
          "output_type": "stream",
          "name": "stdout",
          "text": [
            "._ab_test_ref.csv\n",
            "ab_test_ref.csv\n"
          ]
        }
      ]
    },
    {
      "cell_type": "code",
      "source": [
        "pedidos.show(5)"
      ],
      "metadata": {
        "colab": {
          "base_uri": "https://localhost:8080/"
        },
        "id": "JLFqLEEMpaYK",
        "outputId": "69c8fb03-3e08-4ae2-e349-02821178e2ce"
      },
      "execution_count": 4,
      "outputs": [
        {
          "output_type": "stream",
          "name": "stdout",
          "text": [
            "+-----------+--------------------+-------------+---------------------+------------------------+-------------------------+----------------------------+-------------------------+--------------------------+----------------------+-------------------------+--------------------+--------------------+-----------------+------------------+-----------------+--------------------+--------------------+---------------+--------------------+------------------+---------------+\n",
            "|        cpf|         customer_id|customer_name|delivery_address_city|delivery_address_country|delivery_address_district|delivery_address_external_id|delivery_address_latitude|delivery_address_longitude|delivery_address_state|delivery_address_zip_code|               items|         merchant_id|merchant_latitude|merchant_longitude|merchant_timezone|    order_created_at|            order_id|order_scheduled|order_scheduled_date|order_total_amount|origin_platform|\n",
            "+-----------+--------------------+-------------+---------------------+------------------------+-------------------------+----------------------------+-------------------------+--------------------------+----------------------+-------------------------+--------------------+--------------------+-----------------+------------------+-----------------+--------------------+--------------------+---------------+--------------------+------------------+---------------+\n",
            "|80532101763|7ba88a68bb2a3504c...|      GUSTAVO|               FRANCA|                      BR|         JARDIM ESPRAIADO|                     6736655|                   -47.39|                    -20.55|                    SP|                    14403|[{\"name\": \"Parmeg...|a992a079a651e699d...|           -47.39|            -20.55|America/Sao_Paulo|2019-01-17T22:50:...|33e0612d62e5eb42a...|          false|                NULL|              46.0|        ANDROID|\n",
            "|43352103961|078acecdcf7fa89d3...|     MICHELLE|               SANTOS|                      BR|             CAMPO GRANDE|                     8759216|                   -46.34|                    -23.96|                    SP|                    11070|[{\"name\": \"Filé M...|5152f28ee0518b880...|           -46.34|            -23.96|America/Sao_Paulo|2019-01-17T17:51:...|148c4353a2952f3fe...|          false|                NULL|             104.5|        ANDROID|\n",
            "|38650991217|0e38a3237b5946e8a...|       VICTOR|            GUARULHOS|                      BR|             JARDIM ROSSI|                     8765930|                   -46.53|                    -23.44|                    SP|                    71304|[{\"name\": \"GRANDE...|b6096419455c35d06...|           -46.53|            -23.44|America/Sao_Paulo|2019-01-17T22:53:...|c37e495a91b498bb7...|          false|                NULL|              35.0|            IOS|\n",
            "|63579726866|cab1a004b7206d079...|        ANNIE|            SAO PAULO|                      BR|         PARQUE SAO JORGE|                     7834087|                   -46.57|                    -23.53|                    SP|                    30870|[{\"name\": \"CALABR...|082bfdcdf6ccdc343...|           -46.57|            -23.53|America/Sao_Paulo|2019-01-17T23:56:...|b4df94142d2135461...|          false|                NULL|              40.8|            IOS|\n",
            "|90617788806|aa7edf5b166b8c843...|       DANIEL|              VITORIA|                      BR|           JARDIM CAMBURI|                     7211683|                   -40.27|                    -20.25|                    ES|                    29090|[{\"name\": \"GRANDE...|d7adb764bac29ccb7...|           -40.27|            -20.25|America/Sao_Paulo|2019-01-17T23:40:...|4ff64b33b272c1886...|          false|                NULL|              48.5|        ANDROID|\n",
            "+-----------+--------------------+-------------+---------------------+------------------------+-------------------------+----------------------------+-------------------------+--------------------------+----------------------+-------------------------+--------------------+--------------------+-----------------+------------------+-----------------+--------------------+--------------------+---------------+--------------------+------------------+---------------+\n",
            "only showing top 5 rows\n",
            "\n"
          ]
        }
      ]
    },
    {
      "cell_type": "code",
      "source": [
        "usuarios.show(5)"
      ],
      "metadata": {
        "colab": {
          "base_uri": "https://localhost:8080/"
        },
        "id": "JOo2pSgwvxIN",
        "outputId": "018ca26f-61bd-4bdb-b599-a1a41c040343"
      },
      "execution_count": 5,
      "outputs": [
        {
          "output_type": "stream",
          "name": "stdout",
          "text": [
            "+--------------------+--------+--------------------+------+-------------+-------------------+---------------------+\n",
            "|         customer_id|language|          created_at|active|customer_name|customer_phone_area|customer_phone_number|\n",
            "+--------------------+--------+--------------------+------+-------------+-------------------+---------------------+\n",
            "|e8cc60860e09c0bb1...|   pt-br|2018-04-05T14:49:...|  true|         NUNO|                 46|            816135924|\n",
            "|a2834a38a9876cf74...|   pt-br|2018-01-14T21:40:...|  true|     ADRIELLY|                 59|            231330577|\n",
            "|41e1051728eba1334...|   pt-br|2018-01-07T03:47:...|  true|        PAULA|                 62|            347597883|\n",
            "|8e7c1dcb64edf95c9...|   pt-br|2018-01-10T22:17:...|  true|       HELTON|                 13|            719366842|\n",
            "|7823d4cf4150c5dae...|   pt-br|2018-04-06T00:16:...|  true|       WENDER|                 76|            543232158|\n",
            "+--------------------+--------+--------------------+------+-------------+-------------------+---------------------+\n",
            "only showing top 5 rows\n",
            "\n"
          ]
        }
      ]
    },
    {
      "cell_type": "code",
      "source": [
        "merchants.show(5)"
      ],
      "metadata": {
        "colab": {
          "base_uri": "https://localhost:8080/"
        },
        "id": "dIDvPFqlxGYE",
        "outputId": "d31e2e09-8dda-459c-838a-b4f71df68701"
      },
      "execution_count": 6,
      "outputs": [
        {
          "output_type": "stream",
          "name": "stdout",
          "text": [
            "+--------------------+--------------------+-------+-----------+--------------+------------+-------------+-------------------+-----------------+--------------+--------------+----------------+\n",
            "|                  id|          created_at|enabled|price_range|average_ticket|takeout_time|delivery_time|minimum_order_value|merchant_zip_code| merchant_city|merchant_state|merchant_country|\n",
            "+--------------------+--------------------+-------+-----------+--------------+------------+-------------+-------------------+-----------------+--------------+--------------+----------------+\n",
            "|d19ff6fca6288939b...|2017-01-23T12:52:...|  false|          3|          60.0|           0|           50|               30.0|            14025|RIBEIRAO PRETO|            SP|              BR|\n",
            "|631df0985fdbbaf27...|2017-01-20T13:14:...|   true|          3|          60.0|           0|            0|               30.0|            50180|     SAO PAULO|            SP|              BR|\n",
            "|135c5c4ae4c1ec1fd...|2017-01-23T12:46:...|   true|          5|         100.0|           0|           45|               10.0|            23090|RIO DE JANEIRO|            RJ|              BR|\n",
            "|d26f84c470451f752...|2017-01-20T13:15:...|   true|          3|          80.0|           0|            0|               18.9|            40255|      SALVADOR|            BA|              BR|\n",
            "|97b9884600ea71923...|2017-01-20T13:14:...|   true|          3|          60.0|           0|            0|               25.0|            64600|       BARUERI|            SP|              BR|\n",
            "+--------------------+--------------------+-------+-----------+--------------+------------+-------------+-------------------+-----------------+--------------+--------------+----------------+\n",
            "only showing top 5 rows\n",
            "\n"
          ]
        }
      ]
    },
    {
      "cell_type": "code",
      "source": [
        "teste_ab.show(5, truncate=False)"
      ],
      "metadata": {
        "colab": {
          "base_uri": "https://localhost:8080/"
        },
        "id": "71nIXdCnxILq",
        "outputId": "0882123d-5394-4143-a348-c542acb8afeb"
      },
      "execution_count": 7,
      "outputs": [
        {
          "output_type": "stream",
          "name": "stdout",
          "text": [
            "+----------------------------------------------------------------+---------+\n",
            "|customer_id                                                     |is_target|\n",
            "+----------------------------------------------------------------+---------+\n",
            "|755e1fa18f25caec5edffb188b13fd844b2af8cf5adedcf77c028f36cb9382ea|target   |\n",
            "|b821aa8372b8e5b82cdc283742757df8c45eecdd72adf411716e710525d4edf1|control  |\n",
            "|d425d6ee4c9d4e211b71da8fc60bf6c5336b2ea9af9cc007f5297541ec40b63b|control  |\n",
            "|6a7089eea0a5dc294fbccd4fa24d0d84a90c1cc12e829c8b535718bbc651ab02|target   |\n",
            "|dad6b7e222bab31c0332b0ccd9fa5dbd147008facd268f5e3763fa657c23a58d|control  |\n",
            "+----------------------------------------------------------------+---------+\n",
            "only showing top 5 rows\n",
            "\n"
          ]
        }
      ]
    },
    {
      "cell_type": "code",
      "source": [
        "from pyspark.sql.functions import col, broadcast, when, count, isnan, count_distinct, sum, avg, row_number\n",
        "from pyspark.sql.window import Window"
      ],
      "metadata": {
        "id": "Or44Op0DmgP_"
      },
      "execution_count": 5,
      "outputs": []
    },
    {
      "cell_type": "markdown",
      "source": [
        "# Entendendo os dados"
      ],
      "metadata": {
        "id": "H8Quq9ZsldW-"
      }
    },
    {
      "cell_type": "code",
      "source": [
        "def df_info(df: DataFrame, colunas: list) -> None:\n",
        "  \"\"\"Função para auxiliar a identificar tamanho da base, tipo das colunas,\n",
        "   valores nulos, duplicidade em colunas específicas na base.\"\"\"\n",
        "  # validando o tipo das colunas\n",
        "  df.printSchema()\n",
        "\n",
        "  # validando o tamanho da base\n",
        "  print(f\"Qtd de linhas: {df.count()}\")\n",
        "\n",
        "  print(\"\\nValores nulos\")\n",
        "  df.select([count(when(col(c).isNull(), c)).alias(c) for c in df.columns]).show()\n",
        "\n",
        "  print(\"\\nValidando valores duplicados\")\n",
        "  for column in colunas:\n",
        "    num_duplicados = df.groupBy(column).count().where(col(\"count\") > 1).count()\n",
        "    print(f\"\\n{column}: {num_duplicados}\")"
      ],
      "metadata": {
        "id": "6jlX14IvlcT0"
      },
      "execution_count": 6,
      "outputs": []
    },
    {
      "cell_type": "code",
      "source": [
        "df_info(usuarios, [\"customer_id\"])"
      ],
      "metadata": {
        "colab": {
          "base_uri": "https://localhost:8080/"
        },
        "id": "qBxwerIon3yf",
        "outputId": "91225b46-5cfb-4009-eed2-eb3af8c5be3e"
      },
      "execution_count": 10,
      "outputs": [
        {
          "output_type": "stream",
          "name": "stdout",
          "text": [
            "root\n",
            " |-- customer_id: string (nullable = true)\n",
            " |-- language: string (nullable = true)\n",
            " |-- created_at: string (nullable = true)\n",
            " |-- active: string (nullable = true)\n",
            " |-- customer_name: string (nullable = true)\n",
            " |-- customer_phone_area: string (nullable = true)\n",
            " |-- customer_phone_number: string (nullable = true)\n",
            "\n",
            "Qtd de linhas: 806156\n",
            "\n",
            "Valores nulos\n",
            "+-----------+--------+----------+------+-------------+-------------------+---------------------+\n",
            "|customer_id|language|created_at|active|customer_name|customer_phone_area|customer_phone_number|\n",
            "+-----------+--------+----------+------+-------------+-------------------+---------------------+\n",
            "|          0|       0|         0|     0|            0|                  0|                    0|\n",
            "+-----------+--------+----------+------+-------------+-------------------+---------------------+\n",
            "\n",
            "\n",
            "Validando valores duplicados\n",
            "\n",
            "customer_id: 0\n"
          ]
        }
      ]
    },
    {
      "cell_type": "code",
      "source": [
        "df_info(pedidos, [\"order_id\"])"
      ],
      "metadata": {
        "colab": {
          "base_uri": "https://localhost:8080/"
        },
        "id": "4sGDCxaJojFP",
        "outputId": "d044b0dc-7f45-42c7-cc0f-22661ffd0800"
      },
      "execution_count": 11,
      "outputs": [
        {
          "output_type": "stream",
          "name": "stdout",
          "text": [
            "root\n",
            " |-- cpf: string (nullable = true)\n",
            " |-- customer_id: string (nullable = true)\n",
            " |-- customer_name: string (nullable = true)\n",
            " |-- delivery_address_city: string (nullable = true)\n",
            " |-- delivery_address_country: string (nullable = true)\n",
            " |-- delivery_address_district: string (nullable = true)\n",
            " |-- delivery_address_external_id: string (nullable = true)\n",
            " |-- delivery_address_latitude: string (nullable = true)\n",
            " |-- delivery_address_longitude: string (nullable = true)\n",
            " |-- delivery_address_state: string (nullable = true)\n",
            " |-- delivery_address_zip_code: string (nullable = true)\n",
            " |-- items: string (nullable = true)\n",
            " |-- merchant_id: string (nullable = true)\n",
            " |-- merchant_latitude: string (nullable = true)\n",
            " |-- merchant_longitude: string (nullable = true)\n",
            " |-- merchant_timezone: string (nullable = true)\n",
            " |-- order_created_at: string (nullable = true)\n",
            " |-- order_id: string (nullable = true)\n",
            " |-- order_scheduled: boolean (nullable = true)\n",
            " |-- order_scheduled_date: string (nullable = true)\n",
            " |-- order_total_amount: double (nullable = true)\n",
            " |-- origin_platform: string (nullable = true)\n",
            "\n",
            "Qtd de linhas: 3670826\n",
            "\n",
            "Valores nulos\n",
            "+---+-----------+-------------+---------------------+------------------------+-------------------------+----------------------------+-------------------------+--------------------------+----------------------+-------------------------+-----+-----------+-----------------+------------------+-----------------+----------------+--------+---------------+--------------------+------------------+---------------+\n",
            "|cpf|customer_id|customer_name|delivery_address_city|delivery_address_country|delivery_address_district|delivery_address_external_id|delivery_address_latitude|delivery_address_longitude|delivery_address_state|delivery_address_zip_code|items|merchant_id|merchant_latitude|merchant_longitude|merchant_timezone|order_created_at|order_id|order_scheduled|order_scheduled_date|order_total_amount|origin_platform|\n",
            "+---+-----------+-------------+---------------------+------------------------+-------------------------+----------------------------+-------------------------+--------------------------+----------------------+-------------------------+-----+-----------+-----------------+------------------+-----------------+----------------+--------+---------------+--------------------+------------------+---------------+\n",
            "|  0|       8505|            0|                    0|                       0|                        0|                           0|                        0|                         0|                     0|                        0|    0|          0|                0|                 0|                0|               0|       0|              0|             3670326|                 0|              2|\n",
            "+---+-----------+-------------+---------------------+------------------------+-------------------------+----------------------------+-------------------------+--------------------------+----------------------+-------------------------+-----+-----------+-----------------+------------------+-----------------+----------------+--------+---------------+--------------------+------------------+---------------+\n",
            "\n",
            "\n",
            "Validando valores duplicados\n",
            "\n",
            "order_id: 1237852\n"
          ]
        }
      ]
    },
    {
      "cell_type": "code",
      "source": [
        "# removendo os usuários nulos da base\n",
        "# na base de pedidos temos um número pequeno de pedidos sem customer_id atribuído,\n",
        "# porém como o objetivo da análise é validar os resultados do teste a/b, estes pedidos serão removidos visto que\n",
        "# não participaram do teste a/b\n",
        "pedidos_validos_ab = pedidos.where(col(\"customer_id\").isNotNull())"
      ],
      "metadata": {
        "id": "tcZ9ZxgFurDv"
      },
      "execution_count": 7,
      "outputs": []
    },
    {
      "cell_type": "code",
      "source": [
        "# podemos ver que a base de pedidos possui uma grande voliumentria de pedidos duplicados\n",
        "# foi analisado uma amostra e notou-se que para os pedidos duplicados, os campos que diferente são CPF e data de criação do pedido\n",
        "# pode ter acontecido algum problema no produto ao gerar o número do pedido, ou até mesmo ao gerar a base,\n",
        "# diantes disto podemos seguir com algumas tratativas, como criar um novo order_id concatenando com o CPF, ou\n",
        "# dentro dos duplicados manter o pedido mais atual, ou a mais antigo.\n",
        "# Como os valores dos pedidos são iguais, merchants, itens também são idênticos, optou-se por manter o pedido mais antigo\n",
        "\n",
        "\n",
        "pedidos_validos_ab = (pedidos_validos_ab\n",
        "                      .withColumn(\"rank\", row_number().over(Window.partitionBy(\"order_id\").orderBy(\"order_created_at\")))\n",
        "                      .where(col(\"rank\") == 1)\n",
        "                      .drop(\"rank\")\n",
        ").cache()\n",
        "df_info(pedidos_validos_ab, [\"order_id\"])"
      ],
      "metadata": {
        "colab": {
          "base_uri": "https://localhost:8080/"
        },
        "id": "vShWU8hWHote",
        "outputId": "d4b48a07-8d93-47c4-b9fc-7b0843057a2f"
      },
      "execution_count": 8,
      "outputs": [
        {
          "output_type": "stream",
          "name": "stdout",
          "text": [
            "root\n",
            " |-- cpf: string (nullable = true)\n",
            " |-- customer_id: string (nullable = true)\n",
            " |-- customer_name: string (nullable = true)\n",
            " |-- delivery_address_city: string (nullable = true)\n",
            " |-- delivery_address_country: string (nullable = true)\n",
            " |-- delivery_address_district: string (nullable = true)\n",
            " |-- delivery_address_external_id: string (nullable = true)\n",
            " |-- delivery_address_latitude: string (nullable = true)\n",
            " |-- delivery_address_longitude: string (nullable = true)\n",
            " |-- delivery_address_state: string (nullable = true)\n",
            " |-- delivery_address_zip_code: string (nullable = true)\n",
            " |-- items: string (nullable = true)\n",
            " |-- merchant_id: string (nullable = true)\n",
            " |-- merchant_latitude: string (nullable = true)\n",
            " |-- merchant_longitude: string (nullable = true)\n",
            " |-- merchant_timezone: string (nullable = true)\n",
            " |-- order_created_at: string (nullable = true)\n",
            " |-- order_id: string (nullable = true)\n",
            " |-- order_scheduled: boolean (nullable = true)\n",
            " |-- order_scheduled_date: string (nullable = true)\n",
            " |-- order_total_amount: double (nullable = true)\n",
            " |-- origin_platform: string (nullable = true)\n",
            "\n",
            "Qtd de linhas: 2427415\n",
            "\n",
            "Valores nulos\n",
            "+---+-----------+-------------+---------------------+------------------------+-------------------------+----------------------------+-------------------------+--------------------------+----------------------+-------------------------+-----+-----------+-----------------+------------------+-----------------+----------------+--------+---------------+--------------------+------------------+---------------+\n",
            "|cpf|customer_id|customer_name|delivery_address_city|delivery_address_country|delivery_address_district|delivery_address_external_id|delivery_address_latitude|delivery_address_longitude|delivery_address_state|delivery_address_zip_code|items|merchant_id|merchant_latitude|merchant_longitude|merchant_timezone|order_created_at|order_id|order_scheduled|order_scheduled_date|order_total_amount|origin_platform|\n",
            "+---+-----------+-------------+---------------------+------------------------+-------------------------+----------------------------+-------------------------+--------------------------+----------------------+-------------------------+-----+-----------+-----------------+------------------+-----------------+----------------+--------+---------------+--------------------+------------------+---------------+\n",
            "|  0|          0|            0|                    0|                       0|                        0|                           0|                        0|                         0|                     0|                        0|    0|          0|                0|                 0|                0|               0|       0|              0|             2427068|                 0|              2|\n",
            "+---+-----------+-------------+---------------------+------------------------+-------------------------+----------------------------+-------------------------+--------------------------+----------------------+-------------------------+-----+-----------+-----------------+------------------+-----------------+----------------+--------+---------------+--------------------+------------------+---------------+\n",
            "\n",
            "\n",
            "Validando valores duplicados\n",
            "\n",
            "order_id: 0\n"
          ]
        }
      ]
    },
    {
      "cell_type": "code",
      "source": [
        "df_info(merchants, [\"id\"])"
      ],
      "metadata": {
        "colab": {
          "base_uri": "https://localhost:8080/"
        },
        "id": "uYn3IuVWom0D",
        "outputId": "b17bc57a-60ce-45ad-f688-d54289195583"
      },
      "execution_count": 14,
      "outputs": [
        {
          "output_type": "stream",
          "name": "stdout",
          "text": [
            "root\n",
            " |-- id: string (nullable = true)\n",
            " |-- created_at: string (nullable = true)\n",
            " |-- enabled: string (nullable = true)\n",
            " |-- price_range: string (nullable = true)\n",
            " |-- average_ticket: string (nullable = true)\n",
            " |-- takeout_time: string (nullable = true)\n",
            " |-- delivery_time: string (nullable = true)\n",
            " |-- minimum_order_value: string (nullable = true)\n",
            " |-- merchant_zip_code: string (nullable = true)\n",
            " |-- merchant_city: string (nullable = true)\n",
            " |-- merchant_state: string (nullable = true)\n",
            " |-- merchant_country: string (nullable = true)\n",
            "\n",
            "Qtd de linhas: 7292\n",
            "\n",
            "Valores nulos\n",
            "+---+----------+-------+-----------+--------------+------------+-------------+-------------------+-----------------+-------------+--------------+----------------+\n",
            "| id|created_at|enabled|price_range|average_ticket|takeout_time|delivery_time|minimum_order_value|merchant_zip_code|merchant_city|merchant_state|merchant_country|\n",
            "+---+----------+-------+-----------+--------------+------------+-------------+-------------------+-----------------+-------------+--------------+----------------+\n",
            "|  0|         0|      0|          0|             0|           0|            1|                 95|                0|            0|             0|               0|\n",
            "+---+----------+-------+-----------+--------------+------------+-------------+-------------------+-----------------+-------------+--------------+----------------+\n",
            "\n",
            "\n",
            "Validando valores duplicados\n",
            "\n",
            "id: 0\n"
          ]
        }
      ]
    },
    {
      "cell_type": "code",
      "source": [
        "df_info(teste_ab, [\"customer_id\"])"
      ],
      "metadata": {
        "colab": {
          "base_uri": "https://localhost:8080/"
        },
        "id": "_ye1-XJEosVd",
        "outputId": "075f2d6e-2dbe-4b73-836b-2a44b2cb4b8e"
      },
      "execution_count": 15,
      "outputs": [
        {
          "output_type": "stream",
          "name": "stdout",
          "text": [
            "root\n",
            " |-- customer_id: string (nullable = true)\n",
            " |-- is_target: string (nullable = true)\n",
            "\n",
            "Qtd de linhas: 806467\n",
            "\n",
            "Valores nulos\n",
            "+-----------+---------+\n",
            "|customer_id|is_target|\n",
            "+-----------+---------+\n",
            "|          0|        0|\n",
            "+-----------+---------+\n",
            "\n",
            "\n",
            "Validando valores duplicados\n",
            "\n",
            "customer_id: 0\n"
          ]
        }
      ]
    },
    {
      "cell_type": "markdown",
      "source": [
        "# EDA"
      ],
      "metadata": {
        "id": "30hCY7gSqwjK"
      }
    },
    {
      "cell_type": "code",
      "source": [
        "# tem no teste_Ab mas não comprou? ou seja, não está na base de pedidos?\n",
        "c = pedidos_validos_ab.select(col(\"customer_id\").alias(\"custumer_with_order\")).distinct()\n",
        "teste_ab.join(c, col(\"customer_id\") == col(\"custumer_with_order\"), \"left\").where(col(\"custumer_with_order\").isNull()).show()"
      ],
      "metadata": {
        "id": "Tmf1IoH2iXaP",
        "outputId": "d3af3f99-8718-4722-c319-eb2f8b8aaba3",
        "colab": {
          "base_uri": "https://localhost:8080/"
        }
      },
      "execution_count": 13,
      "outputs": [
        {
          "output_type": "stream",
          "name": "stdout",
          "text": [
            "+-----------+---------+-------------------+\n",
            "|customer_id|is_target|custumer_with_order|\n",
            "+-----------+---------+-------------------+\n",
            "|       null|   target|               NULL|\n",
            "+-----------+---------+-------------------+\n",
            "\n"
          ]
        }
      ]
    },
    {
      "cell_type": "code",
      "source": [
        "# todos os usuários do teste a/b tem algum pedido, logo,\n",
        "# uma sugestão é ter uma base sobre todas os usuários que receberam cupons para conseguirmos calcular conversão"
      ],
      "metadata": {
        "id": "gGYq5Qrr7iLA"
      },
      "execution_count": null,
      "outputs": []
    },
    {
      "cell_type": "code",
      "source": [
        "teste_ab.groupBy(col(\"is_target\")).agg(count_distinct(\"customer_id\")).show()"
      ],
      "metadata": {
        "colab": {
          "base_uri": "https://localhost:8080/"
        },
        "id": "4v9X0xxy0gxX",
        "outputId": "15f213ce-af38-4dcc-d761-dabdf1674cb5"
      },
      "execution_count": 14,
      "outputs": [
        {
          "output_type": "stream",
          "name": "stdout",
          "text": [
            "+---------+---------------------------+\n",
            "|is_target|count(DISTINCT customer_id)|\n",
            "+---------+---------------------------+\n",
            "|  control|                     360542|\n",
            "|   target|                     445925|\n",
            "+---------+---------------------------+\n",
            "\n"
          ]
        }
      ]
    },
    {
      "cell_type": "code",
      "source": [
        "pedidos_final = pedidos_validos_ab.join(broadcast(teste_ab), ['customer_id'], \"left\").cache()\n",
        "#pedidos_final.show(5)"
      ],
      "metadata": {
        "id": "0AX542PvqzXi"
      },
      "execution_count": 15,
      "outputs": []
    },
    {
      "cell_type": "code",
      "source": [
        "pedidos_final.where(col(\"is_target\").isNull()).show()"
      ],
      "metadata": {
        "colab": {
          "base_uri": "https://localhost:8080/"
        },
        "id": "atxd_VB75nGS",
        "outputId": "4ecb3ece-9c52-4b08-f282-00009058fc51"
      },
      "execution_count": 16,
      "outputs": [
        {
          "output_type": "stream",
          "name": "stdout",
          "text": [
            "+-----------+---+-------------+---------------------+------------------------+-------------------------+----------------------------+-------------------------+--------------------------+----------------------+-------------------------+-----+-----------+-----------------+------------------+-----------------+----------------+--------+---------------+--------------------+------------------+---------------+---------+\n",
            "|customer_id|cpf|customer_name|delivery_address_city|delivery_address_country|delivery_address_district|delivery_address_external_id|delivery_address_latitude|delivery_address_longitude|delivery_address_state|delivery_address_zip_code|items|merchant_id|merchant_latitude|merchant_longitude|merchant_timezone|order_created_at|order_id|order_scheduled|order_scheduled_date|order_total_amount|origin_platform|is_target|\n",
            "+-----------+---+-------------+---------------------+------------------------+-------------------------+----------------------------+-------------------------+--------------------------+----------------------+-------------------------+-----+-----------+-----------------+------------------+-----------------+----------------+--------+---------------+--------------------+------------------+---------------+---------+\n",
            "+-----------+---+-------------+---------------------+------------------------+-------------------------+----------------------------+-------------------------+--------------------------+----------------------+-------------------------+-----+-----------+-----------------+------------------+-----------------+----------------+--------+---------------+--------------------+------------------+---------------+---------+\n",
            "\n"
          ]
        }
      ]
    },
    {
      "cell_type": "code",
      "source": [
        "pedidos_final.groupBy(col(\"is_target\")).agg(\n",
        "                                      count_distinct(col(\"order_id\")).alias(\"distinct_orders\"),\n",
        "                                      count_distinct(col(\"customer_id\")).alias(\"distinct_customers\"),\n",
        "                                      count_distinct(col(\"merchant_id\")).alias(\"distinct_merchants\"),\n",
        "                                      sum(col(\"order_total_amount\")).alias(\"order_total_amount\"),\n",
        "                                      avg(col(\"order_total_amount\")).alias(\"order_avg_amount\"),\n",
        "                                      (sum(col(\"order_total_amount\"))/count_distinct(col(\"order_id\"))).alias(\"ticket_medio\"),\n",
        "\n",
        "\n",
        "                                      ).show()"
      ],
      "metadata": {
        "id": "k4KWIUWoPxke",
        "outputId": "3baf5501-f41e-451a-c407-e28a09787fe6",
        "colab": {
          "base_uri": "https://localhost:8080/"
        }
      },
      "execution_count": 35,
      "outputs": [
        {
          "output_type": "stream",
          "name": "stdout",
          "text": [
            "+---------+---------------+------------------+------------------+-------------------+-----------------+-----------------+\n",
            "|is_target|distinct_orders|distinct_customers|distinct_merchants| order_total_amount| order_avg_amount|     ticket_medio|\n",
            "+---------+---------------+------------------+------------------+-------------------+-----------------+-----------------+\n",
            "|  control|        1010738|            360542|              7196|4.843220348999915E7|47.91766361806833|47.91766361806833|\n",
            "|   target|        1416677|            445924|              7227| 6.77299864499999E7|47.80905347513929|47.80905347513929|\n",
            "+---------+---------------+------------------+------------------+-------------------+-----------------+-----------------+\n",
            "\n"
          ]
        }
      ]
    },
    {
      "cell_type": "code",
      "source": [
        "tempo_entre_compras ="
      ],
      "metadata": {
        "id": "dJxnLIInROiS"
      },
      "execution_count": null,
      "outputs": []
    },
    {
      "cell_type": "markdown",
      "source": [
        "\n",
        "\n",
        "---\n",
        "\n",
        "\n",
        "# Teste de Hipótese:"
      ],
      "metadata": {
        "id": "4JzvmeY0_1II"
      }
    },
    {
      "cell_type": "code",
      "source": [
        "import matplotlib.pyplot as plt\n",
        "import pandas as pd\n",
        "from scipy.stats import shapiro, anderson, boxcox, mannwhitneyu\n",
        "import numpy as np\n",
        "import seaborn as sns"
      ],
      "metadata": {
        "id": "1iAabkKwAdBF"
      },
      "execution_count": 22,
      "outputs": []
    },
    {
      "cell_type": "code",
      "source": [
        "#qtd de pedidos por usuário\n",
        "df_media_pedidos = pedidos_final.groupBy(col(\"customer_id\"), col(\"is_target\")).agg(count_distinct(\"order_id\").alias(\"qtd_pedidos_por_usuario\"))\n",
        "\n",
        "df_media_pedidos.groupBy(col(\"is_target\")).agg(avg(col(\"qtd_pedidos_por_usuario\")).alias(\"media_pedidos_por_usuario\")).show()"
      ],
      "metadata": {
        "colab": {
          "base_uri": "https://localhost:8080/"
        },
        "id": "pBXcTuvM1XqV",
        "outputId": "8d3e9a09-e02a-4959-a35c-22567eb403ff"
      },
      "execution_count": 18,
      "outputs": [
        {
          "output_type": "stream",
          "name": "stdout",
          "text": [
            "+---------+-------------------------+\n",
            "|is_target|media_pedidos_por_usuario|\n",
            "+---------+-------------------------+\n",
            "|  control|         2.80338490383922|\n",
            "|   target|        3.176947192795185|\n",
            "+---------+-------------------------+\n",
            "\n"
          ]
        }
      ]
    },
    {
      "cell_type": "markdown",
      "source": [
        "# Usuários target compram mais do que usuários control?\n",
        "Primeiramente vamos validar se os dados possuem uma distribuição normal\n",
        "\n",
        "##Teste de Shapiro Wilk\n",
        "\n",
        "**- H0:** A amostra segue uma distribuição normal\n",
        "\n",
        "**- H1:** A amostra não segue uma distribuição normal\n",
        "- Se _p-value_ < 0.05, rejeita-se a hipótese nula, ou seja, temos evidências suficientes para dizer que a amostra não vem de distribuição normal\n"
      ],
      "metadata": {
        "id": "sdQSklDKO4vd"
      }
    },
    {
      "cell_type": "code",
      "source": [
        "pd_pedidos = df_media_pedidos.toPandas()"
      ],
      "metadata": {
        "id": "96COeDKh_iJc"
      },
      "execution_count": 23,
      "outputs": []
    },
    {
      "cell_type": "code",
      "source": [
        "# analisando se os dados obedecem uma distribuição normal\n",
        "statistic, pvalue = shapiro(pd_pedidos[\"qtd_pedidos_por_usuario\"])\n",
        "print(f\"statistic={statistic}, pvalue={pvalue}\")\n",
        "if pvalue < 0.05:\n",
        "    print('Rejeita a hipótese nula')\n",
        "else:\n",
        "    print('Não rejeita a hipótese nula')"
      ],
      "metadata": {
        "id": "nZO5JizhAnS_",
        "outputId": "2fe51221-eb47-4adb-f01e-990fc571c6a3",
        "colab": {
          "base_uri": "https://localhost:8080/"
        }
      },
      "execution_count": 24,
      "outputs": [
        {
          "output_type": "stream",
          "name": "stdout",
          "text": [
            "statistic=0.5633321475085724, pvalue=8.558000673904252e-203\n",
            "Rejeita a hipótese nula\n"
          ]
        },
        {
          "output_type": "stream",
          "name": "stderr",
          "text": [
            "/usr/local/lib/python3.11/dist-packages/scipy/stats/_axis_nan_policy.py:586: UserWarning: scipy.stats.shapiro: For N > 5000, computed p-value may not be accurate. Current N is 806466.\n",
            "  res = hypotest_fun_out(*samples, **kwds)\n"
          ]
        }
      ]
    },
    {
      "cell_type": "markdown",
      "source": [
        "Como os dados não seguem uma distribuição normal, logo, seguiremos por testes não paramétricos\n",
        "\n",
        "## Hipóteses\n",
        "**H0:** quantidade de pedidos do grupo target é igual ao grupo control\n",
        "\n",
        "**H1:** quantidade de pedidos do grupo target é diferente ao grupo control"
      ],
      "metadata": {
        "id": "JpAgQ6kHPPZF"
      }
    },
    {
      "cell_type": "code",
      "source": [
        "target = pd_pedidos[pd_pedidos[\"is_target\"]==\"target\"]\n",
        "control = pd_pedidos[pd_pedidos[\"is_target\"]==\"control\"]\n",
        "\n",
        "statistic, pvalue = mannwhitneyu(target[\"qtd_pedidos_por_usuario\"], control[\"qtd_pedidos_por_usuario\"])\n",
        "print(f\"statistic={statistic}, pvalue={pvalue}\")\n",
        "\n",
        "if pvalue < 0.05:\n",
        "    print('Rejeita a hipótese nula')\n",
        "else:\n",
        "    print('Não rejeita a hipótese nula')\n",
        "\n",
        "#tamanho de efeito\n",
        "\n",
        "print(statistic/(len(target[\"qtd_pedidos_por_usuario\"])*len(control[\"qtd_pedidos_por_usuario\"])))"
      ],
      "metadata": {
        "id": "EePI-heQBTBw",
        "outputId": "9065e16d-e2a2-4e96-b44b-38b1a91be96a",
        "colab": {
          "base_uri": "https://localhost:8080/"
        }
      },
      "execution_count": 33,
      "outputs": [
        {
          "output_type": "stream",
          "name": "stdout",
          "text": [
            "statistic=88361946996.0, pvalue=0.0\n",
            "Rejeita a hipótese nula\n",
            "0.5496023311179173\n"
          ]
        }
      ]
    },
    {
      "cell_type": "markdown",
      "source": [
        "## Resultado:\n",
        "Rejeitamos a hipótese nula (H₀) e aceitamos a hipótese alternativa, ou seja, há uma diferença significativa entre a quantidade de pedidos dos dois grupos. O tamanho de efeito nos informa a magnitude desta diferença, sendo um índice entre 0 e 1. O tamanho do efeito calculado é 0.55, o que sugere um efeito de tamanho moderado. Isso significa que a diferença na quantidade de pedidos é significativa além de ser relevante.\n",
        "\n",
        "\n",
        "---\n",
        "\n",
        "\n",
        "## Vamos analisar agora se a diferença é para mais ou para menos\n",
        "**H0:** usuários do grupo target tem igual ou menor quatidade de pedidos que o contro control\n",
        "\n",
        "**H1:** usuários do grupo target tem maior quatidade de pedidos que o contro control"
      ],
      "metadata": {
        "id": "IrmoCWJvNpKw"
      }
    },
    {
      "cell_type": "code",
      "source": [
        "\n",
        "target = pd_pedidos[pd_pedidos[\"is_target\"]==\"target\"]\n",
        "control = pd_pedidos[pd_pedidos[\"is_target\"]==\"control\"]\n",
        "\n",
        "statistic, pvalue = mannwhitneyu(target[\"qtd_pedidos_por_usuario\"], control[\"qtd_pedidos_por_usuario\"], alternative='greater')\n",
        "print(f\"statistic={statistic}, pvalue={pvalue}\")\n",
        "\n",
        "if pvalue < 0.05:\n",
        "    print('Rejeita a hipótese nula')\n",
        "else:\n",
        "    print('Não rejeita a hipótese nula')\n",
        "\n",
        "#tamanho de efeito\n",
        "\n",
        "print(statistic/(len(target[\"qtd_pedidos_por_usuario\"])*len(control[\"qtd_pedidos_por_usuario\"])))"
      ],
      "metadata": {
        "id": "JgP2h_QmJxex",
        "outputId": "185a162f-a332-4dd3-cdc1-39a5b243a3cb",
        "colab": {
          "base_uri": "https://localhost:8080/"
        }
      },
      "execution_count": 34,
      "outputs": [
        {
          "output_type": "stream",
          "name": "stdout",
          "text": [
            "statistic=88361946996.0, pvalue=0.0\n",
            "Rejeita a hipótese nula\n",
            "0.5496023311179173\n"
          ]
        }
      ]
    },
    {
      "cell_type": "markdown",
      "source": [
        "## Resultado do teste de hipótese:\n",
        "Novamente rejeitamos a hipótese nula (H₀) concluindo que o grupo target realizou mais pedidos em relação ao grupo control\n",
        "O tamanho de efeito nos informa a magnitude desta diferença, sendo um índice entre 0 e 1. O tamanho do efeito calculado é 0.55, o que sugere um efeito de tamanho moderado. Isso significa que a diferença no tempo de atendimento é significativa além de ser relevante.\n",
        "\n",
        "\n",
        "\n",
        "---\n",
        "\n",
        "\n"
      ],
      "metadata": {
        "id": "riQ7NLXoM2Kz"
      }
    },
    {
      "cell_type": "code",
      "source": [],
      "metadata": {
        "id": "8LSxJ9Y9P9KB"
      },
      "execution_count": null,
      "outputs": []
    },
    {
      "cell_type": "markdown",
      "source": [
        "- tarquet x control\n",
        "\n",
        "    - qtd de pedidos\n",
        "    - valor total da compra\n",
        "    - ticket médio\n",
        "    - tempo entre compras\n",
        "    - recorrencia\n",
        "    - tem diferença entre usuários ativos ou não?\n",
        "    - expansão geográfica: qtd de estabelecimentos diferentes que compraram\n",
        "    - restaurantes que mais venderam\n",
        "    - região que mais vendeu\n",
        "    - horário das compras\n",
        "    - qtd de produtos adquiridos\n",
        "\n",
        "- ideias para teste ab:\n",
        "\n",
        "    - qtd de usuários que receberam o cupom, para entender conversão, de quem recebeu, quem não comprou;\n",
        "     "
      ],
      "metadata": {
        "id": "rSbOvNnJ1O52"
      }
    }
  ]
}